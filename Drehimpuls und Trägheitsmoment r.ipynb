{
 "cells": [
  {
   "cell_type": "markdown",
   "metadata": {},
   "source": [
    "# Smarte und interaktive Kurzskripte (smartiS)\n",
    "P. Kersten, J. Jeschonowski, L.P. Kamegne-Kamdem, N.B. Neathery und D.M. Weis <br>\n",
    "\n",
    "Hochschule Hamm-Lippstadt, Marker Allee 76–78, D-59063 Hamm\n",
    "___\n",
    "\n",
    "## 8. Das Rennen der Formen "
   ]
  },
  {
   "cell_type": "code",
   "execution_count": 1,
   "metadata": {},
   "outputs": [
    {
     "data": {
      "text/html": [
       "<script>$(\"div.input\").hide()</script>"
      ],
      "text/plain": [
       "<IPython.core.display.HTML object>"
      ]
     },
     "metadata": {},
     "output_type": "display_data"
    },
    {
     "data": {
      "application/vnd.jupyter.widget-view+json": {
       "model_id": "a89b3d171db846659f09daaeeebef2ef",
       "version_major": 2,
       "version_minor": 0
      },
      "text/plain": [
       "ToggleButton(value=False, description='Quellcode anzeigen')"
      ]
     },
     "metadata": {},
     "output_type": "display_data"
    }
   ],
   "source": [
    "%matplotlib inline\n",
    "\n",
    "import numpy as np\n",
    "import matplotlib.pyplot as plt\n",
    "import ipywidgets as widgets\n",
    "\n",
    "from smartiS import *\n",
    "from ipywidgets import interact, HBox, VBox, Layout\n",
    "from IPython.display import Markdown, clear_output, display, HTML\n",
    "from matplotlib.pyplot import figure\n",
    "\n",
    "\n",
    "javascript_funktion = {False: \"hide()\", True: \"show()\"}\n",
    "schaltflaeche  = {False: \"Quellcode anzeigen\", True: \"Quellcode verbergen\"}\n",
    "\n",
    "\n",
    "def quellcode_umschalten(state):\n",
    "\n",
    "    output_string = \"<script>$(\\\"div.input\\\").{}</script>\"\n",
    "    output_args   = (javascript_funktion[state],)\n",
    "    output        = output_string.format(*output_args)\n",
    "    display(HTML(output))\n",
    "\n",
    "\n",
    "def schaltflaeche_aktion(value):\n",
    "\n",
    "    state = value.new\n",
    "    quellcode_umschalten(state)\n",
    "    value.owner.description = schaltflaeche[state]\n",
    "\n",
    "\n",
    "state = False\n",
    "quellcode_umschalten(state)\n",
    "\n",
    "button = widgets.ToggleButton(state, description = schaltflaeche[state])\n",
    "button.observe(schaltflaeche_aktion, \"value\")\n",
    "\n",
    "display(button)"
   ]
  },
  {
   "cell_type": "markdown",
   "metadata": {},
   "source": [
    "### Beispiel: Formenrennen\n",
    "Ein Hohlzylinder, ein Vollzylinder und eine massive Kugel mit den Massen M und den Radien R rollen an einer schiefen Ebene mit der Höhe h und einem Neigungswinkel von $\\varphi$ um die wette. (Der Reibungsverlust sowie der Luftwiderstand sollen an dieser Stelle vernachlässigt werden)<br>\n",
    "Wähle zwei Formen aus, die im Rennen gegeneinander antreten sollen und überprüfe, welche Form schlussendlich als Sieger hervorgeht!\n",
    "\n",
    "**Knowledge Check(s):**\n",
    "<ul>\n",
    "    <li>Winkelgeschwindigkeit und Rotationsenergie</li>\n",
    "    <li>Berechne verschiedene Trägheitsmomente und kontrolliere sie!</li>\n",
    "    <li>Welche Form kommt am schnellsten unten an? Probiere es aus!</li>\n",
    "    <li>Wie müssen die Massen verändert werden, damit alle Formen bei gleichbleibendem Radius genauso schnell sind? Und wie ist es vice versa (veränderbare Radien, gleiche Masse)</li>\n",
    "</ul>\n"
   ]
  },
  {
   "cell_type": "code",
   "execution_count": 2,
   "metadata": {},
   "outputs": [
    {
     "data": {
      "application/vnd.jupyter.widget-view+json": {
       "model_id": "04c9b0926daf47bfb5d5cfe6fd129de2",
       "version_major": 2,
       "version_minor": 0
      },
      "text/plain": [
       "interactive(children=(Dropdown(description='Form', options=('Kugel', 'Vollzylinder', 'Hohlzylinder'), value='K…"
      ]
     },
     "metadata": {},
     "output_type": "display_data"
    },
    {
     "data": {
      "text/plain": [
       "<function __main__.parameters(form, M, R)>"
      ]
     },
     "execution_count": 2,
     "metadata": {},
     "output_type": "execute_result"
    }
   ],
   "source": [
    "drop_down = widgets.Dropdown(options=[('Kugel'),('Vollzylinder'), ('Hohlzylinder')], value='Kugel', description='Form')\n",
    "M = widgets.FloatSlider(min=0.1, max=15.0, step=0.1, value=1.0, description='Masse in kg')\n",
    "R = widgets.FloatSlider(min=0.05, max=0.5, step=0.01, value=0.2, description='Radius in m')\n",
    "\n",
    "r = np.linspace(0, 0.5, 450, endpoint=True)\n",
    "I = np.zeros(450)\n",
    "\n",
    "def parameters(form, M, R):\n",
    "    \n",
    "    if form == 'Kugel':\n",
    "        I = ((2/5) * M * r**2)              \n",
    "        I_R = ((2/5) * M * R**2)\n",
    "        fig, axs = plt.subplots(1)\n",
    "        plt.suptitle('Trägheitmoment vs. Radius')         \n",
    "        axs.plot(r, I, color='blue', linestyle='dashed', linewidth=2)\n",
    "        axs.plot(R, I_R, 'ko')\n",
    "        axs.axis([0, 0.51, 0, 4])\n",
    "        axs.grid()\n",
    "        axs.set_ylabel('Trägheitsmoment in kg m²')\n",
    "        axs.set_xlabel('Radius in m')\n",
    "        \n",
    "        \n",
    "    elif form == 'Vollzylinder':\n",
    "        I = ((1/2) * M * r**2)             \n",
    "        I_R = ((1/2) * M * R**2)\n",
    "        fig, axs = plt.subplots(1)\n",
    "        plt.suptitle('Trägheitmoment vs. Radius') \n",
    "        axs.plot(r, I, color='green', linestyle='dashed', linewidth=2)\n",
    "        axs.plot(R, I_R, 'ko')\n",
    "        axs.axis([0, 0.51, 0, 4])\n",
    "        axs.grid()\n",
    "        axs.set_ylabel('Trägheitsmoment in kg m²')\n",
    "        axs.set_xlabel('Radius in m')\n",
    "        \n",
    "        \n",
    "    else:\n",
    "        I = (M * r**2)\n",
    "        I_R = (M * R**2)\n",
    "        fig, axs = plt.subplots(1)\n",
    "        plt.suptitle('Trägheitmoment vs. Radius') \n",
    "        axs.plot(r, I, color='red', linestyle='dashed', linewidth=2)\n",
    "        axs.plot(R, I_R, 'ko')\n",
    "        axs.axis([0, 0.51, 0, 4])\n",
    "        axs.plot()\n",
    "        axs.grid()\n",
    "        axs.set_ylabel('Trägheitsmoment in kg m²')\n",
    "        axs.set_xlabel('Radius in m')\n",
    "        \n",
    "        \n",
    "widgets.interact(parameters, form = drop_down, M = M, R = R)"
   ]
  },
  {
   "cell_type": "code",
   "execution_count": null,
   "metadata": {},
   "outputs": [],
   "source": []
  },
  {
   "cell_type": "markdown",
   "metadata": {},
   "source": [
    "## Danksagung\n",
    "\n",
    "Dieses digitale Lehr-/Lernmaterial wurde im Rahmen des Programms Fellowships für Innovationen in der digitalen Hochschullehre des Ministeriums für Kultur und Wissenschaft des Landes Nordrhein-Westfalen und des Stifterverbandes entwickelt. Es steht als Open Educational Ressources unter der Lizenz [Creative Commons Attribution-ShareAlike 4.0 International License (CC BY-SA 4.0)](https://creativecommons.org/licenses/by-sa/4.0/) zur Verfügung.<br>\n",
    "<img align=\"left\\\" src=\"https://licensebuttons.net/l/by-sa/3.0/88x31.png\\\">"
   ]
  }
 ],
 "metadata": {
  "kernelspec": {
   "display_name": "Python 3",
   "language": "python",
   "name": "python3"
  },
  "language_info": {
   "codemirror_mode": {
    "name": "ipython",
    "version": 3
   },
   "file_extension": ".py",
   "mimetype": "text/x-python",
   "name": "python",
   "nbconvert_exporter": "python",
   "pygments_lexer": "ipython3",
   "version": "3.6.8"
  }
 },
 "nbformat": 4,
 "nbformat_minor": 4
}
