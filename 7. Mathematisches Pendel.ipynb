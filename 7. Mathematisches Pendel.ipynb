{
 "cells": [
  {
   "cell_type": "markdown",
   "metadata": {
    "slideshow": {
     "slide_type": "slide"
    }
   },
   "source": [
    "# Smarte und interaktive Kurzskripte (smartiS)\n",
    "\n",
    "\n",
    " \n",
    "[P. Kersten](https://www.hshl.de/personen/prof-dr-ing-peter-kersten), [J. Jeschonowski](https://www.xing.com/profile/Jule_Jeschonowski/cv), [L.P. Kamegne-Kamdem](https://www.linkedin.com/in/leger-paco-kamegne-kamdem-07ba39184/), [N.B. Neathery](https://www.linkedin.com/in/noel-neathery-6371561a6/) und D.M. Weis\n",
    "\n",
    "[Hochschule Hamm-Lippstadt](https://www.hshl.de), Marker Allee 76–78, D-59063 Hamm\n",
    "___\n",
    "# Mathematisches Pendel\n",
    "- Experimentelle Bestimmung der Schwingungsdauer $T$\n",
    "- Mit der Dimensionsanalyse und dem Experiment eine Formel für die Schwingungsdauer $T$ entwickeln\n",
    "- Den Wert für die Erdbeschleunigung $g$ experimentell ermitteln"
   ]
  },
  {
   "cell_type": "code",
   "execution_count": 1,
   "metadata": {
    "slideshow": {
     "slide_type": "notes"
    }
   },
   "outputs": [],
   "source": [
    "%matplotlib inline\n",
    "import numpy as np\n",
    "import sympy as sp\n",
    "import math as m\n",
    "import matplotlib.pyplot as plt\n",
    "import ipywidgets as widgets\n",
    "import scipy.optimize\n",
    "\n",
    "from ipywidgets import interact\n",
    "from sympy import symbols\n",
    "from sympy.plotting import plot3d\n",
    "from matplotlib.pyplot import figure\n",
    "from IPython.display import Markdown, clear_output, display, HTML\n",
    "from scipy.optimize import curve_fit"
   ]
  },
  {
   "cell_type": "code",
   "execution_count": 2,
   "metadata": {},
   "outputs": [
    {
     "data": {
      "text/html": [
       "<script>$(\"div.input\").hide()</script>"
      ],
      "text/plain": [
       "<IPython.core.display.HTML object>"
      ]
     },
     "metadata": {},
     "output_type": "display_data"
    },
    {
     "data": {
      "application/vnd.jupyter.widget-view+json": {
       "model_id": "f1b982749f0b4f718af44d3a2cfa8e13",
       "version_major": 2,
       "version_minor": 0
      },
      "text/plain": [
       "ToggleButton(value=False, description='Quellcode anzeigen')"
      ]
     },
     "metadata": {},
     "output_type": "display_data"
    }
   ],
   "source": [
    "javascript_functions = {False: \"hide()\", True: \"show()\"}\n",
    "button_descriptions  = {False: \"Code anzeigen\", True: \"Code verbergen\"}\n",
    "\n",
    "\n",
    "javascript_funktion = {False: \"hide()\", True: \"show()\"}\n",
    "schaltflaeche  = {False: \"Quellcode anzeigen\", True: \"Quellcode verbergen\"}\n",
    "\n",
    "\n",
    "def quellcode_umschalten(state):\n",
    "\n",
    "    output_string = \"<script>$(\\\"div.input\\\").{}</script>\"\n",
    "    output_args   = (javascript_funktion[state],)\n",
    "    output        = output_string.format(*output_args)\n",
    "    display(HTML(output))\n",
    "\n",
    "\n",
    "def schaltflaeche_aktion(value):\n",
    "\n",
    "    state = value.new\n",
    "    quellcode_umschalten(state)\n",
    "    value.owner.description = schaltflaeche[state]\n",
    "\n",
    "\n",
    "state = False\n",
    "quellcode_umschalten(state)\n",
    "\n",
    "button = widgets.ToggleButton(state, description = schaltflaeche[state])\n",
    "button.observe(schaltflaeche_aktion, \"value\")\n",
    "\n",
    "display(button)"
   ]
  },
  {
   "cell_type": "markdown",
   "metadata": {
    "slideshow": {
     "slide_type": "slide"
    }
   },
   "source": [
    "## Experimentelle Bestimmung der Schwingungsdauer $T$\n",
    "\n",
    "Wir wollen die Schwingungsdauer $T$ eines mathematischen Pendels experimentell ermitteln. Gemäß der durchgeführten Dimensionsanalyse erwarten wir folgenden Zusammenhang:\n",
    "\n",
    "\n",
    "$T\\sim \\sqrt{\\frac{l}{g}}$\n",
    "\n",
    "Hierbei sind $l$ die Fadenlänge und $g$ die Erdbeschleunigung. Diesen Zusammenhang wollen wir experimentell mit einfachen Mitteln (ein kleines Gewicht, ein Zwirnsfaden, ein Maßband und eine Stoppuhr reichen aus) folgendermaßen überprüfen:\n",
    "\n",
    "- Wir messen die Schwingungsdauer $T$ für die Fadenlängen 0,50 m, 0,75 m, 1,00 m, 1,25 m und 1,5 m.\n",
    "\n",
    "- Um eine höhere Genauigkeit bei der Zeitmessung zu erzielen, messen wir 10 volle Schwingungen (also jeweil hin- und zurück).\n",
    "\n",
    "- Schreiben Sie die Meßwerte für die Fadenlänge (in der Einheit m) in den Vektor (variable `l`). \n",
    "\n",
    "- Schreiben Sie die Meßwerte für die Schwingungsdauer $T_{10}$ (in der Einheit s) in den Vektor (variable `T10`)."
   ]
  },
  {
   "cell_type": "code",
   "execution_count": 3,
   "metadata": {
    "slideshow": {
     "slide_type": "subslide"
    }
   },
   "outputs": [],
   "source": [
    "l = np.array([0.5, 0.75, 1.0, 1.25, 1.5]) # Messwerte der Fadenlänge\n",
    "T10 = np.array([13.8, 17.0, 19.6, 21.6, 22.0]) # Messwerte der Schwingunszeiten für 10 volle Schwingungen\n",
    "\n",
    "T = T10/10"
   ]
  },
  {
   "cell_type": "markdown",
   "metadata": {},
   "source": [
    "Nun können wir die Meßwerte grafisch darstellen."
   ]
  },
  {
   "cell_type": "code",
   "execution_count": 4,
   "metadata": {},
   "outputs": [
    {
     "data": {
      "text/plain": [
       "Text(0.5, 1.0, 'Das mathematische Pendel')"
      ]
     },
     "execution_count": 4,
     "metadata": {},
     "output_type": "execute_result"
    },
    {
     "data": {
      "image/png": "[encoded data removed]",
      "text/plain": [
       "<Figure size 432x288 with 1 Axes>"
      ]
     },
     "metadata": {
      "needs_background": "light"
     },
     "output_type": "display_data"
    }
   ],
   "source": [
    "plt.plot(l,T,'r',lw=2)\n",
    "plt.grid(color='k', linestyle='-', linewidth=1)\n",
    "plt.ylim(0, 3)\n",
    "plt.xlim(0.2, 1.8)\n",
    "plt.xlabel('Länge in m')\n",
    "plt.ylabel('Schwingungsdauer in s')\n",
    "plt.title('Das mathematische Pendel')"
   ]
  },
  {
   "cell_type": "markdown",
   "metadata": {},
   "source": [
    "\n",
    "## Mit der Dimensionsanalyse und dem Experiment eine Formel für die Schwingungsdauer $T$ entwickeln\n",
    "\n",
    "Wenn der vermutete Zusammenhang $T\\sim \\sqrt{\\frac{l}{g}}$ richtig ist, erwarten wir eine Funktionsverlauf der Form $T= \\alpha \\cdot l^{\\beta}$.\n",
    "\n",
    "Die Parameter $\\alpha$ und $\\beta$ können wir mit Hilfe einer Regressionsanalyse bestimmen."
   ]
  },
  {
   "cell_type": "code",
   "execution_count": 5,
   "metadata": {},
   "outputs": [
    {
     "name": "stdout",
     "output_type": "stream",
     "text": [
      "alpha: 1.9121234346738467\n",
      "beta 0.4253363181803931\n"
     ]
    }
   ],
   "source": [
    "def fit(x,a,b):\n",
    "    return a * x**b\n",
    "\n",
    "params, covariance = curve_fit(f = fit, xdata = l, ydata = T)\n",
    "\n",
    "print('alpha:', params[0])\n",
    "print('beta', params[1])"
   ]
  },
  {
   "cell_type": "markdown",
   "metadata": {},
   "source": [
    "## Den Wert für die Erdbeschleunigung $g$ experimentell ermitteln\n",
    "\n",
    "In Lehrbüchern finden wir folgende Formel für die Schwingungsdauer $T$ eines mathematischen Pendels:\n",
    "\n",
    "$T = 2 \\pi \\sqrt{\\frac{l}{g}}$\n",
    "\n",
    "Diese Formel ermöglicht uns, die Erdbeschleunigung $g$ mit Hilfe einer Regressionsanalyse aus unseren Messwerten zu ermitteln.\n",
    "\n",
    "Hierzu formen wir den Ausdruck für $T$ folgendermaßen um:   \n",
    "$T = 2 \\pi \\cdot ({\\frac{1}{g}})^{0,5} \\cdot (l)^{0,5}$\n",
    "\n",
    "Mit der Regression wird nun berechent, welcher optimaler Wert für $g$ resultiert, wenn sich die Meßwerte optimal an die exakte Formel anpassen sollen."
   ]
  },
  {
   "cell_type": "code",
   "execution_count": 6,
   "metadata": {},
   "outputs": [
    {
     "name": "stdout",
     "output_type": "stream",
     "text": [
      "g: 10.895802090267464\n"
     ]
    }
   ],
   "source": [
    "def fit1(x,g):\n",
    "    return 2*m.pi*x**0.5 * (1/g)**0.5\n",
    "\n",
    "params, covariance = curve_fit(f = fit1, xdata = l, ydata = T)\n",
    "print('g:', params[0])"
   ]
  },
  {
   "cell_type": "markdown",
   "metadata": {},
   "source": [
    "## Beispiel - Das mathematische Pendel:<br>\n",
    "Ein Pendel besteht im einfachsten Fall aus einem Körper mit der Masse $m$, der an einem Faden der Länge $l$ hängt. Das mathematische Pendel ist ein Idealisierung, bei dem der Pendelkörper als Punktmasse und der Faden als masselosbetrachtet wird.<br>\n",
    "\n",
    "## Knowledge Check(s):\n",
    "<ol>\n",
    "    <li>Planen Sie Ihren Versuch zur Verifizierung der von Ihnen aus der Dimensionsanalyse ermittelten Formel, planen Sie<br>\n",
    "        - die Anzahl der Versuche, den Aufbau der Wertetabelle, ...</li>\n",
    "    <li>Führen Sie den Versuch der Dimensionsanalyse durch. *Tipp: Um den Messfehler bei $T$ zu minimieren, messen Sie z.B. 10 volle Schwingungen und teilen Sie das Ergebnis durch 10 </li>\n",
    "    <li>Werten Sie den Versuch aus und überprüfen Sie, ob sich der aus der Dimensionsanalyse ermittelte Zusammenhang bestätigen lässt, in dem Sie die Anzahl der Messwerte eintragen und diese nach der Reihenfolge eintragen. </li>\n",
    "</ol>"
   ]
  },
  {
   "cell_type": "code",
   "execution_count": 7,
   "metadata": {},
   "outputs": [
    {
     "data": {
      "text/markdown": [
       "**Schwingungsdauer:**"
      ],
      "text/plain": [
       "<IPython.core.display.Markdown object>"
      ]
     },
     "metadata": {},
     "output_type": "display_data"
    },
    {
     "name": "stdout",
     "output_type": "stream",
     "text": [
      "Anzahl der Werte: 4\n"
     ]
    },
    {
     "data": {
      "text/markdown": [
       "**Messung 1**"
      ],
      "text/plain": [
       "<IPython.core.display.Markdown object>"
      ]
     },
     "metadata": {},
     "output_type": "display_data"
    },
    {
     "name": "stdout",
     "output_type": "stream",
     "text": [
      "1. Wert für T: 0\n",
      "Zum 1. Wert für T dazugehöriges l: 0\n"
     ]
    },
    {
     "data": {
      "text/markdown": [
       "**Messung 2**"
      ],
      "text/plain": [
       "<IPython.core.display.Markdown object>"
      ]
     },
     "metadata": {},
     "output_type": "display_data"
    },
    {
     "name": "stdout",
     "output_type": "stream",
     "text": [
      "2. Wert für T: 1\n",
      "Zum 2. Wert für T dazugehöriges l: 1\n"
     ]
    },
    {
     "data": {
      "text/markdown": [
       "**Messung 3**"
      ],
      "text/plain": [
       "<IPython.core.display.Markdown object>"
      ]
     },
     "metadata": {},
     "output_type": "display_data"
    },
    {
     "name": "stdout",
     "output_type": "stream",
     "text": [
      "3. Wert für T: 1.8\n",
      "Zum 3. Wert für T dazugehöriges l: 2\n"
     ]
    },
    {
     "data": {
      "text/markdown": [
       "**Messung 4**"
      ],
      "text/plain": [
       "<IPython.core.display.Markdown object>"
      ]
     },
     "metadata": {},
     "output_type": "display_data"
    },
    {
     "name": "stdout",
     "output_type": "stream",
     "text": [
      "4. Wert für T: 2.6\n",
      "Zum 4. Wert für T dazugehöriges l: 3\n"
     ]
    },
    {
     "data": {
      "image/png": "[encoded data removed]",
      "text/plain": [
       "<Figure size 432x288 with 1 Axes>"
      ]
     },
     "metadata": {
      "needs_background": "light"
     },
     "output_type": "display_data"
    }
   ],
   "source": [
    "#variables/set up\n",
    "display(Markdown('**Schwingungsdauer:**'))\n",
    "n = int(input('Anzahl der Werte: '))\n",
    "g = 9.81\n",
    "values_T = np.zeros(n)\n",
    "values_l = np.zeros(n)\n",
    "values_m = np.zeros(n)\n",
    "\n",
    "#Input values\n",
    "for i in range (n):\n",
    "    if i == 0:\n",
    "        display(Markdown('**Messung 1**'))\n",
    "        try:\n",
    "            values_T[0] = float(input(f'{i+1}. Wert für T: '))\n",
    "            values_l[0] = float(input(f'Zum {i+1}. Wert für T dazugehöriges l: '))\n",
    "            '''values_m[0] = float(input(f'Zum {i+1}. Wert für T dazugehöriges m: '))'''\n",
    "        except:\n",
    "            values_T[0] = int(input(f'{i+1}. Wert für T: '))\n",
    "            values_l[0] = int(input(f'Zum {i+1}. Wert für T dazugehöriges l: '))\n",
    "            '''values_m[0] = int(input(f'Zum {i+1}. Wert für T dazugehöriges m: '))'''\n",
    "    else:\n",
    "        display(Markdown(f'**Messung {i+1}**'))\n",
    "        try:\n",
    "            values_T[i] = float(input(f'{i+1}. Wert für T: '))\n",
    "            values_l[i] = float(input(f'Zum {i+1}. Wert für T dazugehöriges l: '))\n",
    "            '''values_m[i] = float(input(f'Zum {i+1}. Wert für T dazugehöriges m: '))'''\n",
    "        except:\n",
    "            values_T[i] = int(input(f'{i+1}. Wert für T: '))\n",
    "            values_l[i] = int(input(f'Zum {i+1}. Wert für T dazugehöriges l: '))\n",
    "            '''values_m[i] = int(input(f'Zum {i+1}. Wert für T dazugehöriges m: '))'''\n",
    "            \n",
    "#regression line\n",
    "coef = np.polyfit(values_l,values_T,1)\n",
    "poly = np.poly1d(coef)\n",
    "\n",
    "#plotting\n",
    "plt.plot(values_l,values_T,'yo', values_l, poly(values_l), '--k')\n",
    "plt.plot(values_l,values_T,'b',lw=0.5)\n",
    "plt.xlim(0, max(values_l)+0.5)\n",
    "plt.ylim(0, max(values_T)+0.5)\n",
    "plt.xlabel('Länge des Pendels l/m')\n",
    "plt.ylabel('Schwingungsdauer T/s')\n",
    "plt.title('PENDEL')\n",
    "plt.grid()\n",
    "plt.show()"
   ]
  },
  {
   "cell_type": "markdown",
   "metadata": {},
   "source": [
    "## Danksagung\n",
    "\n",
    "\n",
    "Dieses digitale Lehr-/Lernmaterial wurde im Rahmen des Programms [Fellowships für Innovationen in der digitalen Hochschullehre](https://www.stifterverband.org/digital-lehrfellows-nrw/2019/temmen_kersten) des Ministeriums für Kultur und Wissenschaft des Landes Nordrhein-Westfalen und des Stifterverbandes entwickelt. \n",
    "\n",
    "Die Autoren stellen dieses digitale Lehr-/Lernmateriales als Open Educational Ressources unter der Lizenz [Creative Commons Attribution-ShareAlike 4.0 International License (CC BY-SA 4.0)](https://creativecommons.org/licenses/by-sa/4.0/) zur Verfügung.\n",
    "\n",
    "\n",
    "    \n",
    "<img align=\"left\" src=\"https://licensebuttons.net/l/by-sa/3.0/88x31.png\">"
   ]
  }
 ],
 "metadata": {
  "celltoolbar": "Slideshow",
  "kernelspec": {
   "display_name": "Python 3",
   "language": "python",
   "name": "python3"
  },
  "language_info": {
   "codemirror_mode": {
    "name": "ipython",
    "version": 3
   },
   "file_extension": ".py",
   "mimetype": "text/x-python",
   "name": "python",
   "nbconvert_exporter": "python",
   "pygments_lexer": "ipython3",
   "version": "3.7.6"
  }
 },
 "nbformat": 4,
 "nbformat_minor": 2
}
