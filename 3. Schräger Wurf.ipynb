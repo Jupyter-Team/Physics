{
 "cells": [
  {
   "cell_type": "markdown",
   "metadata": {
    "slideshow": {
     "slide_type": "slide"
    }
   },
   "source": [
    "# Smarte und interaktive Kurzskripte (smartiS)\n",
    "\n",
    "\n",
    " \n",
    "[P. Kersten](https://www.hshl.de/personen/prof-dr-ing-peter-kersten), [J. Jeschonowski](https://www.xing.com/profile/Jule_Jeschonowski/cv), [L.P. Kamegne-Kamdem](https://www.linkedin.com/in/leger-paco-kamegne-kamdem-07ba39184/), [N.B. Neathery](https://www.linkedin.com/in/noel-neathery-6371561a6/) und D.M. Weis\n",
    "\n",
    "[Hochschule Hamm-Lippstadt](https://www.hshl.de), Marker Allee 76–78, D-59063 Hamm\n",
    "___\n",
    " \n",
    "## Schräger Wurf\n",
    "- Parametrische Darstellung"
   ]
  },
  {
   "cell_type": "code",
   "execution_count": 1,
   "metadata": {
    "slideshow": {
     "slide_type": "notes"
    }
   },
   "outputs": [],
   "source": [
    "%matplotlib inline\n",
    "import numpy as np\n",
    "import sympy as sp\n",
    "import math as m\n",
    "import matplotlib.pyplot as plt\n",
    "import ipywidgets as widgets\n",
    "\n",
    "from ipywidgets import interact\n",
    "from sympy import symbols\n",
    "from sympy.plotting import plot3d\n",
    "from matplotlib.pyplot import figure"
   ]
  },
  {
   "cell_type": "code",
   "execution_count": 2,
   "metadata": {},
   "outputs": [
    {
     "data": {
      "text/html": [
       "<script>$(\"div.input\").hide()</script>"
      ],
      "text/plain": [
       "<IPython.core.display.HTML object>"
      ]
     },
     "metadata": {},
     "output_type": "display_data"
    },
    {
     "data": {
      "application/vnd.jupyter.widget-view+json": {
       "model_id": "d94f745c1ffa44f4a9ca73a8e6f531bc",
       "version_major": 2,
       "version_minor": 0
      },
      "text/plain": [
       "ToggleButton(value=False, description='Quellcode anzeigen')"
      ]
     },
     "metadata": {},
     "output_type": "display_data"
    }
   ],
   "source": [
    "\n",
    "#____import____\n",
    "\n",
    "%matplotlib inline\n",
    "\n",
    "import numpy as np\n",
    "import ipywidgets as widgets\n",
    "\n",
    "from ipywidgets import interact\n",
    "from IPython.display import Markdown, clear_output, display, HTML\n",
    "\n",
    "javascript_functions = {False: \"hide()\", True: \"show()\"}\n",
    "button_descriptions  = {False: \"Code anzeigen\", True: \"Code verbergen\"}\n",
    "\n",
    "\n",
    "javascript_funktion = {False: \"hide()\", True: \"show()\"}\n",
    "schaltflaeche  = {False: \"Quellcode anzeigen\", True: \"Quellcode verbergen\"}\n",
    "\n",
    "\n",
    "def quellcode_umschalten(state):\n",
    "\n",
    "    output_string = \"<script>$(\\\"div.input\\\").{}</script>\"\n",
    "    output_args   = (javascript_funktion[state],)\n",
    "    output        = output_string.format(*output_args)\n",
    "    display(HTML(output))\n",
    "\n",
    "\n",
    "def schaltflaeche_aktion(value):\n",
    "\n",
    "    state = value.new\n",
    "    quellcode_umschalten(state)\n",
    "    value.owner.description = schaltflaeche[state]\n",
    "\n",
    "\n",
    "state = False\n",
    "quellcode_umschalten(state)\n",
    "\n",
    "button = widgets.ToggleButton(state, description = schaltflaeche[state])\n",
    "button.observe(schaltflaeche_aktion, \"value\")\n",
    "\n",
    "display(button)"
   ]
  },
  {
   "cell_type": "markdown",
   "metadata": {
    "slideshow": {
     "slide_type": "slide"
    }
   },
   "source": [
    "## Parametrische Darstellung\n",
    "\n",
    "Wir wollen die Wurfbahn einer Masse berechnen und visualisieren. Die Masse weist eine definierte Geschwindigkeit und einen definiertem Wurfwinkel auf. Wir nehmen eine Anfangsgeschwindigkeit von $v_0=25\\,\\text{m/s}$ an. Die Bewegung in $x$- and $y$-Richtung kann beschrieben werden mit:\n",
    "\n",
    "$x(t)=x_0+v_{0,x}\\,t$   \n",
    "$y(t)=y_0+v_{0,y}\\,t-\\frac{1}{2}\\,g\\,t^2$\n",
    "\n",
    "Hierbei ist $v_{0,x}$ die horizontale Komponente der Anfangsgeschwindigkeit, $v_{0,y}$ die vertikale Komponente, \n",
    "$t$ die Zeit und $g$ der Betrag der Erdbeschleunigung. Die Geschwindigkeitskomponenten $v_{0,x}$ und $v_{0,y}$ können berechnet werden mit:\n",
    "\n",
    "$v_{0,x}=|v_0|\\,\\text{cos}\\,\\theta$   \n",
    "$v_{0,y}=|v_0|\\,\\text{sin}\\,\\theta$\n",
    "\n",
    "Hierbei ist $\\theta$ der Wurfwinkel. Wir wollen verschiedene Werte für die Anfangshöhe $y_0$ bei einer festen Position $x_0=0$ untersuchen."
   ]
  },
  {
   "cell_type": "code",
   "execution_count": 3,
   "metadata": {
    "slideshow": {
     "slide_type": "subslide"
    }
   },
   "outputs": [
    {
     "data": {
      "application/vnd.jupyter.widget-view+json": {
       "model_id": "52f1a5a7864f44c4a05f04522da87cb5",
       "version_major": 2,
       "version_minor": 0
      },
      "text/plain": [
       "interactive(children=(IntSlider(value=30, description='theta', max=90), IntSlider(value=25, description='v', m…"
      ]
     },
     "metadata": {},
     "output_type": "display_data"
    },
    {
     "data": {
      "text/plain": [
       "<function __main__.f(theta, v, y0)>"
      ]
     },
     "execution_count": 3,
     "metadata": {},
     "output_type": "execute_result"
    }
   ],
   "source": [
    "g = 9.81\n",
    "t1 = np.arange (0,15,0.1)\n",
    "\n",
    "def f(theta,v,y0):\n",
    "    vx = v*np.cos(np.deg2rad(theta))\n",
    "    vy = v*np.sin(np.deg2rad(theta))\n",
    "    x = vx*t1\n",
    "    y = y0+(vy*t1)-1/2*g*t1**2\n",
    "    plt.plot(x,y,'b',lw=2)\n",
    "    plt.ylim(0, 40)\n",
    "    plt.xlim(0, 80)\n",
    "    plt.grid()\n",
    "    plt.xlabel('x in m')\n",
    "    plt.ylabel('y in m')\n",
    "    plt.title('Flugbahn einer Masse')\n",
    "\n",
    "interact(f, theta = widgets.IntSlider(value=30, min=0, max=90, step=1), \n",
    "            v = widgets.IntSlider(value=25, min=10, max=30, step=1),\n",
    "            y0 = widgets.IntSlider(value=0, min=0, max=10, step=2))    "
   ]
  },
  {
   "cell_type": "markdown",
   "metadata": {},
   "source": [
    "## Knowledge Check(s)\n",
    "- Variiere den Wurfwinkel theta bei der Starthöhe $y0 = 0m$ und Startgeschwindigkeit $v = 0 \\frac{m}{s}$ mit Hilfe der Slider. Wann wird die maximale Weite erreicht?\n",
    "- Was ist der optimale Wurfwinkel bei der Höhe $y0 = 10 m$ um die maximale Weite zu erreichen ($v=0$)?\n",
    "- Welche Startgeschwindigkeit braucht die Startmasse, um bei einem Wurfwinkel von $\\theta = 70°$ und einer Starthöhe von $y0=0$, um die gleiche maximale Weite zu erreichen wie unter den Bedingungen $\\theta = 40°, v0=5 \\frac{m}{s}$ und $y0=5m$"
   ]
  },
  {
   "cell_type": "markdown",
   "metadata": {},
   "source": [
    "## Danksagung\n",
    "\n",
    "\n",
    "Dieses digitale Lehr-/Lernmaterial wurde im Rahmen des Programms [Fellowships für Innovationen in der digitalen Hochschullehre](https://www.stifterverband.org/digital-lehrfellows-nrw/2019/temmen_kersten) des Ministeriums für Kultur und Wissenschaft des Landes Nordrhein-Westfalen und des Stifterverbandes entwickelt. \n",
    "\n",
    "Die Autoren stellen dieses digitale Lehr-/Lernmateriales als Open Educational Ressources unter der Lizenz [Creative Commons Attribution-ShareAlike 4.0 International License (CC BY-SA 4.0)](https://creativecommons.org/licenses/by-sa/4.0/) zur Verfügung.\n",
    "\n",
    "\n",
    "    \n",
    "<img align=\"left\" src=\"https://licensebuttons.net/l/by-sa/3.0/88x31.png\">"
   ]
  },
  {
   "cell_type": "code",
   "execution_count": null,
   "metadata": {},
   "outputs": [],
   "source": []
  }
 ],
 "metadata": {
  "celltoolbar": "Slideshow",
  "kernelspec": {
   "display_name": "Python 3",
   "language": "python",
   "name": "python3"
  },
  "language_info": {
   "codemirror_mode": {
    "name": "ipython",
    "version": 3
   },
   "file_extension": ".py",
   "mimetype": "text/x-python",
   "name": "python",
   "nbconvert_exporter": "python",
   "pygments_lexer": "ipython3",
   "version": "3.7.6"
  }
 },
 "nbformat": 4,
 "nbformat_minor": 2
}
