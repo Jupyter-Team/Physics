{
 "cells": [
  {
   "cell_type": "markdown",
   "metadata": {},
   "source": [
    "\n",
    "# Smarte und interaktive Kurzskripte (smartiS)\n",
    " \n",
    "[P. Kersten](https://www.hshl.de/personen/prof-dr-ing-peter-kersten), [J. Jeschonowski](https://www.xing.com/profile/Jule_Jeschonowski/cv), [L.P. Kamegne-Kamdem](https://www.linkedin.com/in/leger-paco-kamegne-kamdem-07ba39184/), [N.B. Neathery](https://www.linkedin.com/in/noel-neathery-6371561a6/) und D.M. Weis\n",
    "\n",
    "[Hochschule Hamm-Lippstadt](https://www.hshl.de), Marker Allee 76–78, D-59063 Hamm\n"
   ]
  },
  {
   "cell_type": "markdown",
   "metadata": {},
   "source": [
    "# Entrophie und der zweite Hauptsatz, Entropieänderung bei isothermen Prozessen\n",
    "\n",
    "- Entropie und Wärmeenergie\n",
    "- Keisprozesses in einem S-T-Diagramm\n",
    "- Keisprozesses in einem P-V-Diagramm\n",
    "- Pozessführungen in einem P-V-Diagramm\n",
    "- Knowledge Check(s)"
   ]
  },
  {
   "cell_type": "markdown",
   "metadata": {},
   "source": [
    "## Basics:\n",
    "\n",
    "Der zweite Hauptsatz der Thermodynamik:Die Entropie S eines geschlossenen Systems nimmt für irreversible Prozesse immer zu und bleibt für reversible Prozesse konstant. Die Entropie nimmt niemals ab.\n",
    "   - Die Entropie eines geschlossenen Systems nimmt niemals ab!\n"
   ]
  },
  {
   "cell_type": "markdown",
   "metadata": {},
   "source": [
    "<img src=\"img/Entropiezunahme.jpg\" style=\"width:300px:height:700px\"/>"
   ]
  },
  {
   "cell_type": "markdown",
   "metadata": {},
   "source": [
    "\n",
    "$\n",
    "            \\begin{split}\n",
    "            & S  = k_{B}\\cdot ln (P)  \\\\\n",
    "            Mit \\\\\n",
    "            & k_{B}  = 1{,}3807\\cdot 10^{-23}\\,\\mathrm {J/K} \\\\\n",
    "            und \\\\\n",
    "            & P : Anzahl von Teilchen\\\\\n",
    "            Mit \\\\\n",
    "            & P = 2^{-N}  \\\\\n",
    "            & S  = - k_{B}\\cdot N \\cdot ln (2)  \\\\\n",
    "            \\end{split}\n",
    "            $"
   ]
  },
  {
   "cell_type": "markdown",
   "metadata": {},
   "source": [
    "### Die Entropieänderung bei diesem Übergang beträgt also\n"
   ]
  },
  {
   "cell_type": "markdown",
   "metadata": {},
   "source": [
    "\n",
    "            \n",
    "$\n",
    "            \\begin{split}\n",
    "            &  ∆S  = k_{B}\\cdot  N \\cdot ln (2) \\\\\n",
    "            \\\\\n",
    "             \\\\\n",
    "            \\\\\n",
    "            \\end{split}\n",
    "            $"
   ]
  },
  {
   "cell_type": "markdown",
   "metadata": {},
   "source": [
    "### Entropie und Wärmeenergie"
   ]
  },
  {
   "cell_type": "markdown",
   "metadata": {},
   "source": [
    "Wenn man bei einer bestimmten Temperatur T einem System die Wärmemenge\n",
    "∆Q reversibel zu- oder abführt, ändert sich die Entropie des Systems wie folgt:"
   ]
  },
  {
   "cell_type": "markdown",
   "metadata": {},
   "source": [
    "$deltaS = \\frac{deltaQ }{T}$\n",
    "\n",
    "$ PV = n * R * T$\n",
    " \n",
    "$ ∆S = n * R * ln(\\frac{V_{2}}{V_{1}})$\n"
   ]
  },
  {
   "cell_type": "markdown",
   "metadata": {},
   "source": [
    "## Darstellung des thermodynamischen Keisprozesses in einem S-T-Diagramm"
   ]
  },
  {
   "cell_type": "markdown",
   "metadata": {},
   "source": [
    "<img src=\"img/Entropie-S-T-Diagramm.jpg\" style=\"width:300px:height:700px\"/>"
   ]
  },
  {
   "cell_type": "markdown",
   "metadata": {},
   "source": [
    "## Darstellung des thermodynamischen Keisprozesses in einem P-V-Diagramm"
   ]
  },
  {
   "cell_type": "markdown",
   "metadata": {},
   "source": [
    "<img src=\"img/Entropie-P-V-Diagramm.jpg\" style=\"width:300px:height:700px\"/>"
   ]
  },
  {
   "cell_type": "markdown",
   "metadata": {},
   "source": [
    "- isotherme Expansion von 1): Das Gas nimmt Entropie aus dem heissen Bad auf und gibt die damit aufgenommene Energie     (Wärme) in Form von Arbeit an den verschiebbaren Kolben weiter. Die innere Energie des Gases bleibt bei diesem Prozess konstant.\n"
   ]
  },
  {
   "cell_type": "markdown",
   "metadata": {},
   "source": [
    "\n",
    "- adiabatisches Abkühlen von 2): Das Gas gibt Entropie an den Regenerator weg. Die von der Entropie an den Regenerator weg geführte Energie (Wärme) entstammt dem Gas, entspricht also der Änderung der inneren Energie des Gases.\n"
   ]
  },
  {
   "cell_type": "markdown",
   "metadata": {},
   "source": [
    "\n",
    "- isotherme Kompression von 3): Das Gas gibt Entropie ans kalte Bad ab. Die dabei abgeführte Energie (Wärme) muss vom Kolben zugeführt werden, da die innere Energie des Gases wie beim ersten Teilprozess konstant bleibt.\n"
   ]
  },
  {
   "cell_type": "markdown",
   "metadata": {},
   "source": [
    "\n",
    "- adiabatisches  Heizen von 4): Das Gas nimmt Entropie vom Regenerator auf. Die damit zugeführte Energie (Wärme) bleibt im Gas drin und entspricht der Änderung der inneren Energie des Gases."
   ]
  },
  {
   "cell_type": "markdown",
   "metadata": {},
   "source": [
    "## Darstellung der drei Pozessführungen in einem P-V-Diagramm"
   ]
  },
  {
   "cell_type": "markdown",
   "metadata": {},
   "source": [
    "<img src=\"img/Entropie-P-V-Diagramm1.jpg\" style=\"width:300px:height:700px\"/>"
   ]
  },
  {
   "cell_type": "markdown",
   "metadata": {},
   "source": [
    "## Knowledge Check(s)"
   ]
  },
  {
   "cell_type": "markdown",
   "metadata": {},
   "source": [
    "### Entropieänderung eines Idealen Gases Isotherm"
   ]
  },
  {
   "cell_type": "markdown",
   "metadata": {},
   "source": [
    "- Berechnen Sie die Entropie bei einer isothermen Kompression eines idealen Gases von Volumen V1 (Druck 1 bar) auf V2 bei einer Temperatur 20°C.\n",
    "\n",
    "- Gesucht ist die Entropieänderung ∆S\n",
    "\n"
   ]
  },
  {
   "cell_type": "code",
   "execution_count": 1,
   "metadata": {},
   "outputs": [],
   "source": [
    "%matplotlib inline\n",
    "\n",
    "import ipywidgets as widgets\n",
    "import matplotlib.animation as animation\n",
    "\n",
    "from math import *\n",
    "from IPython.display import Image\n",
    "from ipywidgets import interact\n",
    "from IPython.display import Markdown, clear_output, display\n",
    "from sympy import symbols, Eq, solve, ln\n",
    "from ipywidgets import Image, HBox\n",
    "from ipycanvas import Canvas, hold_canvas\n",
    "from IPython.display import Markdown, clear_output, display, HTML"
   ]
  },
  {
   "cell_type": "code",
   "execution_count": 2,
   "metadata": {},
   "outputs": [
    {
     "data": {
      "text/html": [
       "<script>$(\"div.input\").hide()</script>"
      ],
      "text/plain": [
       "<IPython.core.display.HTML object>"
      ]
     },
     "metadata": {},
     "output_type": "display_data"
    },
    {
     "data": {
      "application/vnd.jupyter.widget-view+json": {
       "model_id": "a2ad82eac6b643b3b373963f9510b3e6",
       "version_major": 2,
       "version_minor": 0
      },
      "text/plain": [
       "ToggleButton(value=False, description='Quellcode anzeigen')"
      ]
     },
     "metadata": {},
     "output_type": "display_data"
    },
    {
     "data": {
      "text/html": [
       "<script>$(\"div.input\").show()</script>"
      ],
      "text/plain": [
       "<IPython.core.display.HTML object>"
      ]
     },
     "metadata": {},
     "output_type": "display_data"
    }
   ],
   "source": [
    "javascript_funktion = {False: \"hide()\", True: \"show()\"}\n",
    "schaltflaeche  = {False: \"Quellcode anzeigen\", True: \"Quellcode verbergen\"}\n",
    "\n",
    "\n",
    "def quellcode_umschalten(state):\n",
    "\n",
    "    output_string = \"<script>$(\\\"div.input\\\").{}</script>\"\n",
    "    output_args   = (javascript_funktion[state],)\n",
    "    output        = output_string.format(*output_args)\n",
    "    display(HTML(output))\n",
    "\n",
    "\n",
    "def schaltflaeche_aktion(value):\n",
    "\n",
    "    state = value.new\n",
    "    quellcode_umschalten(state)\n",
    "    value.owner.description = schaltflaeche[state]\n",
    "\n",
    "\n",
    "state = False\n",
    "quellcode_umschalten(state)\n",
    "\n",
    "button = widgets.ToggleButton(state, description = schaltflaeche[state])\n",
    "button.observe(schaltflaeche_aktion, \"value\")\n",
    "\n",
    "display(button)"
   ]
  },
  {
   "cell_type": "code",
   "execution_count": 3,
   "metadata": {},
   "outputs": [
    {
     "data": {
      "application/vnd.jupyter.widget-view+json": {
       "model_id": "8db3c59169024dba814b7de3a7f83803",
       "version_major": 2,
       "version_minor": 0
      },
      "text/plain": [
       "interactive(children=(Dropdown(description='n:', index=5, options=('dS', 'v1', 'v2', 'T', 'P1', 'n'), value='n…"
      ]
     },
     "metadata": {},
     "output_type": "display_data"
    },
    {
     "data": {
      "text/plain": [
       "<function __main__.fonc_Res(Entropie, Slider_v1, Slider_v2, Slider_T, Slider_P1)>"
      ]
     },
     "execution_count": 3,
     "metadata": {},
     "output_type": "execute_result"
    }
   ],
   "source": [
    "\n",
    "\n",
    "Tens =widgets.Dropdown(\n",
    "    options=['dS', 'v1', 'v2', 'T','P1', 'n'],\n",
    "    value='n',\n",
    "    description='n:',\n",
    "    disabled=False,\n",
    ")\n",
    "\n",
    "\n",
    "\n",
    "\n",
    "\n",
    "Slider_v1 = widgets.FloatSlider(min=0.0000, max=1000.0000, step=0.00001, value=0.0005, description='v1 in m3')\n",
    "Slider_v2 = widgets.FloatSlider(min=0.00000, max=1000.00000, step=0.00001, value=0.00005, description='v2 in m3')\n",
    "Slider_T = widgets.FloatSlider(min=0.00, max=500.00, step=0.01, value=293.15, description='T in K')\n",
    "Slider_P1 = widgets.FloatSlider(min=0.0, max=500000.0, step=1, value=100000.0, description='P1 in Pa')\n",
    "\n",
    "R = 8.314\n",
    "\n",
    "def fonc_Res (Entropie, Slider_v1, Slider_v2, Slider_T,Slider_P1):\n",
    "    if Entropie == 'v1':\n",
    "        n = Slider_v1\n",
    "        print(f'v1 = {n} J/K')\n",
    "        \n",
    "    elif Entropie == 'v2':\n",
    "        n = Slider_v2\n",
    "        print(f' v2 = {n} J/K')\n",
    "        \n",
    "    elif Entropie == 'T':\n",
    "        n = Slider_T\n",
    "        print(f'T = {n} K')\n",
    "        \n",
    "    elif Entropie == 'P':\n",
    "        n = Slider_P1\n",
    "        print(f'P1 = {n} Pa')\n",
    "        \n",
    "    else:\n",
    "        n = (Slider_P1 * Slider_v1) / (R * Slider_T)\n",
    "        print(f'n = (P1 * V1)/ (R * T) = {n} mol')\n",
    "        \n",
    "    return n\n",
    "    \n",
    "\n",
    "widgets.interact(fonc_Res, Entropie = Tens, \n",
    "                  Slider_v1 = Slider_v1, Slider_v2 = Slider_v2, Slider_T = Slider_T, Slider_P1 = Slider_P1)\n",
    "\n"
   ]
  },
  {
   "cell_type": "code",
   "execution_count": 4,
   "metadata": {},
   "outputs": [
    {
     "data": {
      "application/vnd.jupyter.widget-view+json": {
       "model_id": "995efcf3497e49c38c9905a800755368",
       "version_major": 2,
       "version_minor": 0
      },
      "text/plain": [
       "interactive(children=(Dropdown(description='Entropieänderung:', options=('dS', 'v1', 'v2', 'T', 'P1', 'n'), va…"
      ]
     },
     "metadata": {},
     "output_type": "display_data"
    },
    {
     "data": {
      "text/plain": [
       "<function __main__.fonc_Res1(Entropie, Slider_v1, Slider_v2, Slider_T, Slider_P1)>"
      ]
     },
     "execution_count": 4,
     "metadata": {},
     "output_type": "execute_result"
    }
   ],
   "source": [
    "Res = widgets.Dropdown(\n",
    "    options=['dS', 'v1', 'v2', 'T','P1', 'n'],\n",
    "    value='dS',\n",
    "    description='Entropieänderung:',\n",
    "    disabled=False,\n",
    ")\n",
    "\n",
    "\n",
    "\n",
    "Slider_v1 = widgets.FloatSlider(min=0.0000, max=1000.0000, step=0.00001, value=0.0005, description='v1 in m3')\n",
    "Slider_v2 = widgets.FloatSlider(min=0.00000, max=1000.00000, step=0.00001, value=0.00005, description='v2 in m3')\n",
    "Slider_T = widgets.FloatSlider(min=0.00, max=500.00, step=0.01, value=293.15, description='T in K')\n",
    "Slider_P1 = widgets.FloatSlider(min=0.0, max=500000.0, step=1, value=100000.0, description='P1 in Pa')\n",
    "n = 0.0210\n",
    "R = 8.314\n",
    "def fonc_Res1 (Entropie, Slider_v1, Slider_v2, Slider_T,Slider_P1):\n",
    "    if Entropie == 'v1':\n",
    "        dS = Slider_v1\n",
    "        print(f'v1 = {dS} J/K')\n",
    "        \n",
    "    elif Entropie == 'v2':\n",
    "        dS = Slider_v2\n",
    "        print(f' v2 = {dS} J/K')\n",
    "        \n",
    "    elif Entropie == 'T':\n",
    "        dS = Slider_T\n",
    "        print(f'T = {dS} K')\n",
    "        \n",
    "    elif Entropie == 'P':\n",
    "        dS = Slider_P1\n",
    "        print(f'P1 = {dS} Pa')\n",
    "        \n",
    "    else:\n",
    "        dS = n * R * ln(Slider_v2 / Slider_v1)\n",
    "        print(f'∆S = n * R * ln (V2 / V1) = {dS} J/K')\n",
    "        \n",
    "    return dS\n",
    "\n",
    "widgets.interact(fonc_Res1, Entropie = Res, \n",
    "                  Slider_v1 = Slider_v1, Slider_v2 = Slider_v2, Slider_T = Slider_T, Slider_P1 = Slider_P1)"
   ]
  },
  {
   "cell_type": "markdown",
   "metadata": {},
   "source": [
    "## Knowledge Check(s)\n",
    "\n",
    "### Apfelsaft"
   ]
  },
  {
   "cell_type": "markdown",
   "metadata": {},
   "source": [
    "- in einem Glas Apfelsaft befinden sich 10.000 Apfelteilchen. Man tut vier Eiswürfel hinein, die insgesamt 1.000 Wasserpartikel enthalten. So haben im Glas 10.000 * 1000 = 10.000.000 (N1 = 10.000.000) Mikrozustände im Saft. Wenn die Eiswürfel vollständig schmelzen, ist N2 = 100.000. \n",
    "- Berechnen Sie die Änderung der Entropie."
   ]
  },
  {
   "cell_type": "markdown",
   "metadata": {},
   "source": [
    "\n",
    "$\n",
    "            \\begin{split}\n",
    "            & S  = k_{B}\\cdot ln (P)  \\\\\n",
    "            Mit \\\\\n",
    "            & k_{B}  = 1{,}3807\\cdot 10^{-23}\\,\\mathrm {J/K} \\\\\n",
    "            und \\\\\n",
    "            & P : Anzahl von Mikrozustände\\\\\n",
    "            \\end{split}\n",
    "            $"
   ]
  },
  {
   "cell_type": "code",
   "execution_count": 5,
   "metadata": {},
   "outputs": [
    {
     "data": {
      "application/vnd.jupyter.widget-view+json": {
       "model_id": "936c88b636e441d085e1da584b857205",
       "version_major": 2,
       "version_minor": 0
      },
      "text/plain": [
       "interactive(children=(Dropdown(description='S1:', options=('S1', 'P1'), value='S1'), FloatSlider(value=1000000…"
      ]
     },
     "metadata": {},
     "output_type": "display_data"
    },
    {
     "data": {
      "text/plain": [
       "<function __main__.fonc_Res(Entropie, Slider_P1)>"
      ]
     },
     "execution_count": 5,
     "metadata": {},
     "output_type": "execute_result"
    }
   ],
   "source": [
    "\n",
    "\n",
    "Tens =widgets.Dropdown(\n",
    "    options=['S1', 'P1'],\n",
    "    value='S1',\n",
    "    description='S1:',\n",
    "    disabled=False,\n",
    ")\n",
    "\n",
    "\n",
    "\n",
    "\n",
    "\n",
    "Slider_P1 = widgets.FloatSlider(min=1, max=10000000, step=1, value=10000000, description='P1 Mikrozustände')\n",
    "\n",
    "KB = 1.3807 * 10**(-23)\n",
    "\n",
    "def fonc_Res (Entropie, Slider_P1):\n",
    "    if Entropie == 'P1':\n",
    "        S1 = Slider_P1\n",
    "        print(f'P1 = {S1} ')\n",
    "        \n",
    "    else:\n",
    "        S1 = KB * ln (Slider_P1)\n",
    "        print(f'S1 = KB * ln (P1) = {S1} J/K')\n",
    "        \n",
    "    return S1\n",
    "    \n",
    "\n",
    "widgets.interact(fonc_Res, Entropie = Tens, \n",
    "                  Slider_P1 = Slider_P1)\n"
   ]
  },
  {
   "cell_type": "code",
   "execution_count": 8,
   "metadata": {},
   "outputs": [
    {
     "data": {
      "application/vnd.jupyter.widget-view+json": {
       "model_id": "7e2abe784f0146d38af062ec48a6d08d",
       "version_major": 2,
       "version_minor": 0
      },
      "text/plain": [
       "interactive(children=(Dropdown(description='S2:', options=('S2', 'P2'), value='S2'), FloatSlider(value=1000000…"
      ]
     },
     "metadata": {},
     "output_type": "display_data"
    },
    {
     "data": {
      "text/plain": [
       "<function __main__.fonc_Res(Entropie, Slider_P2)>"
      ]
     },
     "execution_count": 8,
     "metadata": {},
     "output_type": "execute_result"
    }
   ],
   "source": [
    "\n",
    "\n",
    "Tens =widgets.Dropdown(\n",
    "    options=['S2', 'P2'],\n",
    "    value='S2',\n",
    "    description='S2:',\n",
    "    disabled=False,\n",
    ")\n",
    "\n",
    "\n",
    "\n",
    "\n",
    "\n",
    "Slider_P2 = widgets.FloatSlider(min=1, max=100000000, step=1, value=100000000, description='P2 Mikrozustäne')\n",
    "\n",
    "KB = 1.3807 * 10**(-23)\n",
    "\n",
    "def fonc_Res (Entropie, Slider_P2):\n",
    "    if Entropie == 'P2':\n",
    "        S2 = Slider_P2\n",
    "        print(f'P2 = {S2} ')\n",
    "        \n",
    "    else:\n",
    "        S2 = KB * ln (Slider_P2)\n",
    "        print(f'S2 = KB * ln (P2) = {S2} J/K')\n",
    "        \n",
    "    return S2\n",
    "    \n",
    "\n",
    "widgets.interact(fonc_Res, Entropie = Tens, \n",
    "                  Slider_P2 = Slider_P2)\n"
   ]
  },
  {
   "cell_type": "markdown",
   "metadata": {},
   "source": [
    "$ deltas = S2 - S1$ "
   ]
  },
  {
   "cell_type": "markdown",
   "metadata": {},
   "source": [
    "### Kompression\n",
    "\n",
    "Sie wollen ein Gas mit dem Volumen $V1 = 1 m^3$ und einem Druck $P = 140 kPa$ auf eine Volumen $V2 = 0,5 m^3$ komprimieren.\n",
    "- Welche Arbeit müssen Sie verrichten?\n",
    "- Berechnen Sie die Entropieänderung"
   ]
  },
  {
   "cell_type": "markdown",
   "metadata": {},
   "source": [
    "November 2020 (CC BY-SA 4.0)"
   ]
  }
 ],
 "metadata": {
  "kernelspec": {
   "display_name": "Python 3",
   "language": "python",
   "name": "python3"
  },
  "language_info": {
   "codemirror_mode": {
    "name": "ipython",
    "version": 3
   },
   "file_extension": ".py",
   "mimetype": "text/x-python",
   "name": "python",
   "nbconvert_exporter": "python",
   "pygments_lexer": "ipython3",
   "version": "3.8.3"
  }
 },
 "nbformat": 4,
 "nbformat_minor": 4
}
