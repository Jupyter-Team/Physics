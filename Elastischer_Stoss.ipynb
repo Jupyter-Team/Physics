{
 "cells": [
  {
   "cell_type": "markdown",
   "metadata": {},
   "source": [
    "# Elastische Stoß\n",
    "[P. Kersten](https://www.hshl.de/personen/prof-dr-ing-peter-kersten), J. Jeschonowski, L.P. Kamegne-Kamdem, N.B. Neathery und D.M. Weis\n",
    "\n",
    "[Hochschule Hamm-Lippstadt](https://www.hshl.de), Marker Allee 76–78, D-59063 Hamm"
   ]
  },
  {
   "cell_type": "markdown",
   "metadata": {},
   "source": [
    "## Inhalt\n",
    "- Elastische Stossvorgänge berechnen"
   ]
  },
  {
   "cell_type": "code",
   "execution_count": 1,
   "metadata": {},
   "outputs": [],
   "source": [
    "%matplotlib inline\n",
    "import numpy as np\n",
    "import sympy as sp\n",
    "import math as m\n",
    "import matplotlib.pyplot as plt\n",
    "import ipywidgets as widgets\n",
    "import scipy.optimize\n",
    "from ipywidgets import interact\n",
    "from sympy import symbols\n",
    "from sympy.plotting import plot3d\n",
    "from matplotlib.pyplot import figure\n",
    "from scipy.optimize import curve_fit\n",
    "from IPython.display import Markdown, clear_output, display, HTML"
   ]
  },
  {
   "cell_type": "code",
   "execution_count": 2,
   "metadata": {},
   "outputs": [
    {
     "data": {
      "text/html": [
       "<script>$(\"div.input\").hide()</script>"
      ],
      "text/plain": [
       "<IPython.core.display.HTML object>"
      ]
     },
     "metadata": {},
     "output_type": "display_data"
    },
    {
     "data": {
      "application/vnd.jupyter.widget-view+json": {
       "model_id": "82a87b96bade4125a2cdd6f394e57ffb",
       "version_major": 2,
       "version_minor": 0
      },
      "text/plain": [
       "ToggleButton(value=False, description='Quellcode anzeigen')"
      ]
     },
     "metadata": {},
     "output_type": "display_data"
    }
   ],
   "source": [
    "javascript_funktion = {False: \"hide()\", True: \"show()\"}\n",
    "schaltflaeche  = {False: \"Quellcode anzeigen\", True: \"Quellcode verbergen\"}\n",
    "\n",
    "\n",
    "def quellcode_umschalten(state):\n",
    "\n",
    "    output_string = \"<script>$(\\\"div.input\\\").{}</script>\"\n",
    "    output_args   = (javascript_funktion[state],)\n",
    "    output        = output_string.format(*output_args)\n",
    "    display(HTML(output))\n",
    "\n",
    "\n",
    "def schaltflaeche_aktion(value):\n",
    "\n",
    "    state = value.new\n",
    "    quellcode_umschalten(state)\n",
    "    value.owner.description = schaltflaeche[state]\n",
    "\n",
    "\n",
    "state = False\n",
    "quellcode_umschalten(state)\n",
    "\n",
    "button = widgets.ToggleButton(state, description = schaltflaeche[state])\n",
    "button.observe(schaltflaeche_aktion, \"value\")\n",
    "\n",
    "display(button)"
   ]
  },
  {
   "cell_type": "markdown",
   "metadata": {},
   "source": [
    "## Geschwindigkeiten nach einem elastischen Stoß berechnen\n",
    "\n",
    "Bei elastischen Stoßvorgänge bleibt der Impuls und die Energie erhalten.\n",
    "\n",
    "Für ein System mit zwei Massen $m_1$ und $m_2$ können wir somit zwei Gleichungen formulieren:\n",
    "\n",
    "$m_1 \\cdot v_{1A}+m_2 \\cdot v_{2A} = m_1 \\cdot v_{1E}+m_2 \\cdot v_{2E}$ (Impulserhaltung) <br>\n",
    "\n",
    "$\\frac{1}{2} \\, m_1 \\cdot v_{1A}^2 + \\frac{1}{2} \\, m_2 \\cdot v_{2A}^2 = \\frac{1}{2} \\, m_1 \\cdot v_{1E}^2 + \\frac{1}{2} \\, m_2 \\cdot v_{2E}^2$ (Energieerhaltung) <br>"
   ]
  },
  {
   "cell_type": "code",
   "execution_count": 3,
   "metadata": {},
   "outputs": [
    {
     "data": {
      "application/vnd.jupyter.widget-view+json": {
       "model_id": "b434134a8f4e4b1085a99ff564e5b5b9",
       "version_major": 2,
       "version_minor": 0
      },
      "text/plain": [
       "interactive(children=(IntSlider(value=10, description='m1', max=10), IntSlider(value=10, description='m2', max…"
      ]
     },
     "metadata": {},
     "output_type": "display_data"
    },
    {
     "data": {
      "text/plain": [
       "<function __main__.f(m1, m2, v1A, v2A)>"
      ]
     },
     "execution_count": 3,
     "metadata": {},
     "output_type": "execute_result"
    }
   ],
   "source": [
    "def f(m1, m2, v1A, v2A):\n",
    "\n",
    "    v1E, v2E = sp.symbols(\"v1E, v2E\")\n",
    "\n",
    "    equations = [\n",
    "        sp.Eq(m1*v1A+m2*v2A , m1*v1E+m2*v2E ),\n",
    "        sp.Eq(1/2*m1*v1A**2 +1/2*m2*v2A**2, 1/2*m1*v1E**2+1/2*m2*v2E**2 ),\n",
    "        ]\n",
    "    print(sp.solve(equations))\n",
    "    \n",
    "\n",
    "\n",
    "interact(f, m1 = widgets.IntSlider(value=10, min=0, max=10, step=1), \n",
    "            m2 = widgets.IntSlider(value=10, min=0, max=10, step=1),\n",
    "            v1A = widgets.IntSlider(value=5, min=0, max=10, step=1),\n",
    "            v2A = widgets.IntSlider(value=5, min=1, max=10, step=1))\n"
   ]
  },
  {
   "cell_type": "markdown",
   "metadata": {},
   "source": [
    "## Knowledge Check(s)\n",
    "### Zwei Kugeln treffen eleastisch aufeinander\n",
    "\n",
    "Eine Kugel der Masse $m_1=4\\,\\text{kg}$ trifft elastisch mit einer Geschwindigkeit von $v_{1A}=5\\,\\text{m/s}$ auf eine zweite Kugel der Masse $m_2=7\\,\\text{kg}$, die sich mit einer Geschwindigkeit von von $v_{2A}=2\\,\\text{m/s}$ in die gleiche Richtung bewegt. Berechnen Sie die Geschwindigkeiten $v_{1E}$ und $v_{2E}$ nach dem Stoß. Überprüfen Sie Ihr Ergebnis durch Einstellen der Schieberegler. \n",
    "\n",
    "### Zwei Billiardkugeln\n",
    "\n",
    "Beim Billiardspielen treffen Sie mit der weißen Billiardkugel auf die (ruhende) schwarze Billiardkugel. Beide Kugeln haben die gleiche Masse. Was beobachten Sie ? (Die Rotationsenergie der Kugeln vernachlässigen wir). Überprüfen Sie Ihre Aussage durch Einstellen der Schieberegler."
   ]
  },
  {
   "cell_type": "code",
   "execution_count": null,
   "metadata": {},
   "outputs": [],
   "source": []
  }
 ],
 "metadata": {
  "kernelspec": {
   "display_name": "Python 3",
   "language": "python",
   "name": "python3"
  },
  "language_info": {
   "codemirror_mode": {
    "name": "ipython",
    "version": 3
   },
   "file_extension": ".py",
   "mimetype": "text/x-python",
   "name": "python",
   "nbconvert_exporter": "python",
   "pygments_lexer": "ipython3",
   "version": "3.6.8"
  }
 },
 "nbformat": 4,
 "nbformat_minor": 2
}
