{
 "cells": [
  {
   "cell_type": "markdown",
   "metadata": {},
   "source": [
    "# Smarte und interaktive Kurzskripte (smartiS)\n",
    "\n",
    "\n",
    " \n",
    "[P. Kersten](https://www.hshl.de/personen/prof-dr-ing-peter-kersten), [J. Jeschonowski](https://www.xing.com/profile/Jule_Jeschonowski/cv), [L.P. Kamegne-Kamdem](https://www.linkedin.com/in/leger-paco-kamegne-kamdem-07ba39184/), [N.B. Neathery](https://www.linkedin.com/in/noel-neathery-6371561a6/) und D.M. Weis\n",
    "\n",
    "[Hochschule Hamm-Lippstadt](https://www.hshl.de), Marker Allee 76–78, D-59063 Hamm\n",
    "___\n",
    "\n",
    "## 1. Einheiten"
   ]
  },
  {
   "cell_type": "code",
   "execution_count": 1,
   "metadata": {},
   "outputs": [
    {
     "data": {
      "text/html": [
       "<script>$(\"div.input\").hide()</script>"
      ],
      "text/plain": [
       "<IPython.core.display.HTML object>"
      ]
     },
     "metadata": {},
     "output_type": "display_data"
    },
    {
     "data": {
      "application/vnd.jupyter.widget-view+json": {
       "model_id": "63d3a221a04544198d86c5edded456a0",
       "version_major": 2,
       "version_minor": 0
      },
      "text/plain": [
       "ToggleButton(value=False, description='Code anzeigen')"
      ]
     },
     "metadata": {},
     "output_type": "display_data"
    }
   ],
   "source": [
    "#____import____\n",
    "\n",
    "%matplotlib inline\n",
    "\n",
    "import numpy as np\n",
    "import ipywidgets as widgets\n",
    "\n",
    "from ipywidgets import interact\n",
    "from IPython.display import Markdown, clear_output, display, HTML\n",
    "\n",
    "javascript_functions = {False: \"hide()\", True: \"show()\"}\n",
    "button_descriptions  = {False: \"Code anzeigen\", True: \"Code verbergen\"}\n",
    "\n",
    "\n",
    "def toggle_code(state):\n",
    "\n",
    "    \"\"\"\n",
    "    Toggles the JavaScript show()/hide() function on the div.input element.\n",
    "    \"\"\"\n",
    "\n",
    "    output_string = \"<script>$(\\\"div.input\\\").{}</script>\"\n",
    "    output_args   = (javascript_functions[state],)\n",
    "    output        = output_string.format(*output_args)\n",
    "\n",
    "    display(HTML(output))\n",
    "\n",
    "\n",
    "def button_action(value):\n",
    "\n",
    "    \"\"\"\n",
    "    Calls the toggle_code function and updates the button description.\n",
    "    \"\"\"\n",
    "\n",
    "    state = value.new\n",
    "\n",
    "    toggle_code(state)\n",
    "\n",
    "    value.owner.description = button_descriptions[state]\n",
    "\n",
    "\n",
    "state = False\n",
    "toggle_code(state)\n",
    "\n",
    "button = widgets.ToggleButton(state, description = button_descriptions[state])\n",
    "button.observe(button_action, \"value\")\n",
    "\n",
    "display(button)"
   ]
  },
  {
   "cell_type": "markdown",
   "metadata": {},
   "source": [
    "### Beispiel: Einheitentransformieren\n",
    "Jede Einheit lässt sich in einer Zusammenstellung aus Teilen der sieben SI Einheiten Kilogramm, Meter, Sekunde, Amper, Candela, Kelvin und Mol umschreiben. So lässt sich beispielsweise $N$ in $\\frac{kg*m}{s^2}$ darstellen. Dies folgt aus der Formel $F=m*a$.<br>\n",
    "Desweiteren können große Zahlen in Zehner Potenzen umgeschrieben werden. Jede dieser Zehnerpotenzen hat einen Namen und gibt die Vorsilbe für die Einheit. Z.B. $1500 g=1,5*10^{3} g=1,5 kg$.<br>\n",
    "<table style=\"width:50%\">\n",
    "<tr>\n",
    "    <th>Vorsilbe</th>\n",
    "    <th>Kürzel</th>\n",
    "    <th>Potenz</th>\n",
    "</tr> \n",
    "<tr>\n",
    "    <th>Yotta</th>\n",
    "    <th>Y</th>\n",
    "    <th>$10^{24}$</th>\n",
    "</tr>\n",
    "<tr>\n",
    "    <th>Zetta</th>\n",
    "    <th>Z</th>\n",
    "    <th>$10^{21}$</th>\n",
    "</tr>\n",
    "<tr>\n",
    "    <th>Exa</th>\n",
    "    <th>E</th>\n",
    "    <th>$10^{18}$</th>\n",
    "</tr>\n",
    "<tr>\n",
    "    <th>Peta</th>\n",
    "    <th>P</th>\n",
    "    <th>$10^{15}$</th>\n",
    "</tr>\n",
    "<tr>\n",
    "    <th>Tera</th>\n",
    "    <th>T</th>\n",
    "    <th>$10^{12}$</th>\n",
    "</tr>\n",
    "<tr>\n",
    "    <th>Giga</th>\n",
    "    <th>G</th>\n",
    "    <th>$10^{9}$</th>\n",
    "</tr>\n",
    "<tr>\n",
    "    <th>Mega</th>\n",
    "    <th>M</th>\n",
    "    <th>$10^{6}$</th>\n",
    "</tr>\n",
    "<tr>\n",
    "    <th>Kilo</th>\n",
    "    <th>k</th>\n",
    "    <th>$10^{24}$</th>\n",
    "</tr>\n",
    "<tr>\n",
    "    <th>Hecto</th>\n",
    "    <th>h</th>\n",
    "    <th>$10^{2}$</th>\n",
    "</tr>\n",
    "<tr>\n",
    "    <th>Standard</th>\n",
    "    <th></th>\n",
    "    <th>$10^{0}$</th>\n",
    "</tr>\n",
    "<tr>\n",
    "    <th>dezi</th>\n",
    "    <th>d</th>\n",
    "    <th>$10^{-1}$</th>\n",
    "</tr>\n",
    "<tr>\n",
    "    <th>centi</th>\n",
    "    <th>c</th>\n",
    "    <th>$10^{-2}$</th>\n",
    "</tr>\n",
    "<tr>\n",
    "    <th>milli</th>\n",
    "    <th>m</th>\n",
    "    <th>$10^{-3}$</th>\n",
    "</tr>\n",
    "<tr>\n",
    "    <th>mikro</th>\n",
    "    <th>$\\mu$</th>\n",
    "    <th>$10^{-6}$</th>\n",
    "</tr>\n",
    "<tr>\n",
    "    <th>nano</th>\n",
    "    <th>n</th>\n",
    "    <th>$10^{-9}$</th>\n",
    "</tr>\n",
    "<tr>\n",
    "    <th>piko</th>\n",
    "    <th>p</th>\n",
    "    <th>$10^{-12}$</th>\n",
    "</tr>\n",
    "<tr>\n",
    "    <th>femto</th>\n",
    "    <th>f</th>\n",
    "    <th>$10^{-15}$</th>\n",
    "</tr>\n",
    "<tr>\n",
    "    <th>atto</th>\n",
    "    <th>a</th>\n",
    "    <th>$10^{-18}$</th>\n",
    "</tr>\n",
    "<tr>\n",
    "    <th>zepto</th>\n",
    "    <th>z</th>\n",
    "    <th>$10^{-21}$</th>\n",
    "</tr>\n",
    "<tr>\n",
    "    <th>yocto</th>\n",
    "    <th>y</th>\n",
    "    <th>$10^{-24}$</th>\n",
    "</tr>"
   ]
  },
  {
   "cell_type": "markdown",
   "metadata": {},
   "source": [
    "**Knowledge Check(s):**\n",
    "<ul>\n",
    "    <li>Überlege dir anhand der physikalischen Formeln, wie weit man die jeweiligen Einheiten herunterbrechen kann. Kontrolliere anschließend deine Ergebnisse mit Hilfe der Buttons</li>\n",
    "    <li>Bestimme die Potenzen und das zugehörige Kürzel dazu! Überprüfe dich mit der Software!</li>\n",
    "    <ol>\n",
    "        <li>1000000 N</li>\n",
    "        <li>mehr random Zahlen die es zu Überprüfen gibt</li>\n",
    "    </ol>\n",
    "</ul>"
   ]
  },
  {
   "cell_type": "code",
   "execution_count": 2,
   "metadata": {},
   "outputs": [
    {
     "data": {
      "application/vnd.jupyter.widget-view+json": {
       "model_id": "8780bc8d35c04d9c83476e9302ada5be",
       "version_major": 2,
       "version_minor": 0
      },
      "text/plain": [
       "Button(description='[F]=Nm', style=ButtonStyle())"
      ]
     },
     "metadata": {},
     "output_type": "display_data"
    },
    {
     "data": {
      "application/vnd.jupyter.widget-view+json": {
       "model_id": "12e2d40cb8fd4242b42f98ef82e5b44e",
       "version_major": 2,
       "version_minor": 0
      },
      "text/plain": [
       "Output()"
      ]
     },
     "metadata": {},
     "output_type": "display_data"
    },
    {
     "data": {
      "application/vnd.jupyter.widget-view+json": {
       "model_id": "c6ceb9c46d47462ca75262287fbf17b9",
       "version_major": 2,
       "version_minor": 0
      },
      "text/plain": [
       "Button(description='[P]=W', style=ButtonStyle())"
      ]
     },
     "metadata": {},
     "output_type": "display_data"
    },
    {
     "data": {
      "application/vnd.jupyter.widget-view+json": {
       "model_id": "69b0d414d0a0489a9dad313fc2d3402d",
       "version_major": 2,
       "version_minor": 0
      },
      "text/plain": [
       "Output()"
      ]
     },
     "metadata": {},
     "output_type": "display_data"
    },
    {
     "data": {
      "application/vnd.jupyter.widget-view+json": {
       "model_id": "7b79481a83be4ca0a94a71d87392a05a",
       "version_major": 2,
       "version_minor": 0
      },
      "text/plain": [
       "Button(description='[W]=J', style=ButtonStyle())"
      ]
     },
     "metadata": {},
     "output_type": "display_data"
    },
    {
     "data": {
      "application/vnd.jupyter.widget-view+json": {
       "model_id": "1c7166754fb443debdc44cbcdffcd38f",
       "version_major": 2,
       "version_minor": 0
      },
      "text/plain": [
       "Output()"
      ]
     },
     "metadata": {},
     "output_type": "display_data"
    },
    {
     "data": {
      "application/vnd.jupyter.widget-view+json": {
       "model_id": "a3782c2081b74796b08098980008984e",
       "version_major": 2,
       "version_minor": 0
      },
      "text/plain": [
       "Button(description='[R]=Ω', style=ButtonStyle())"
      ]
     },
     "metadata": {},
     "output_type": "display_data"
    },
    {
     "data": {
      "application/vnd.jupyter.widget-view+json": {
       "model_id": "e52ac6d1729d4dd2b040156df8c0d954",
       "version_major": 2,
       "version_minor": 0
      },
      "text/plain": [
       "Output()"
      ]
     },
     "metadata": {},
     "output_type": "display_data"
    },
    {
     "data": {
      "application/vnd.jupyter.widget-view+json": {
       "model_id": "f8f1cf5e9e70481caa5d809125861524",
       "version_major": 2,
       "version_minor": 0
      },
      "text/plain": [
       "Button(description='[U]=V', style=ButtonStyle())"
      ]
     },
     "metadata": {},
     "output_type": "display_data"
    },
    {
     "data": {
      "application/vnd.jupyter.widget-view+json": {
       "model_id": "fa6a2bc3910148ad80f2a026ebb3ad1a",
       "version_major": 2,
       "version_minor": 0
      },
      "text/plain": [
       "Output()"
      ]
     },
     "metadata": {},
     "output_type": "display_data"
    },
    {
     "data": {
      "application/vnd.jupyter.widget-view+json": {
       "model_id": "95821f0150944596a2cf90350b49ad74",
       "version_major": 2,
       "version_minor": 0
      },
      "text/plain": [
       "Button(description='[Q]=C', style=ButtonStyle())"
      ]
     },
     "metadata": {},
     "output_type": "display_data"
    },
    {
     "data": {
      "application/vnd.jupyter.widget-view+json": {
       "model_id": "b93ef25a43434400954d9e7311ea351a",
       "version_major": 2,
       "version_minor": 0
      },
      "text/plain": [
       "Output()"
      ]
     },
     "metadata": {},
     "output_type": "display_data"
    },
    {
     "data": {
      "application/vnd.jupyter.widget-view+json": {
       "model_id": "71cd4615938d4eada3ada9042c8249ae",
       "version_major": 2,
       "version_minor": 0
      },
      "text/plain": [
       "Button(description='[V]=l', style=ButtonStyle())"
      ]
     },
     "metadata": {},
     "output_type": "display_data"
    },
    {
     "data": {
      "application/vnd.jupyter.widget-view+json": {
       "model_id": "ee452e3005f243e1bf557c728195e03e",
       "version_major": 2,
       "version_minor": 0
      },
      "text/plain": [
       "Output()"
      ]
     },
     "metadata": {},
     "output_type": "display_data"
    },
    {
     "data": {
      "application/vnd.jupyter.widget-view+json": {
       "model_id": "7fc8eb90faaa4de5aa77408d92eee562",
       "version_major": 2,
       "version_minor": 0
      },
      "text/plain": [
       "Button(description='[ρ]=Pa', style=ButtonStyle())"
      ]
     },
     "metadata": {},
     "output_type": "display_data"
    },
    {
     "data": {
      "application/vnd.jupyter.widget-view+json": {
       "model_id": "130fb9f063654288b1b27481021cffee",
       "version_major": 2,
       "version_minor": 0
      },
      "text/plain": [
       "Output()"
      ]
     },
     "metadata": {},
     "output_type": "display_data"
    },
    {
     "data": {
      "application/vnd.jupyter.widget-view+json": {
       "model_id": "77f7ea94418e45bbbdf0419f5425a635",
       "version_major": 2,
       "version_minor": 0
      },
      "text/plain": [
       "Button(description='[f]=Hz', style=ButtonStyle())"
      ]
     },
     "metadata": {},
     "output_type": "display_data"
    },
    {
     "data": {
      "application/vnd.jupyter.widget-view+json": {
       "model_id": "210ee1eb2a52481984911992157c6c14",
       "version_major": 2,
       "version_minor": 0
      },
      "text/plain": [
       "Output()"
      ]
     },
     "metadata": {},
     "output_type": "display_data"
    },
    {
     "data": {
      "application/vnd.jupyter.widget-view+json": {
       "model_id": "72c4dd9b390342988ecd3f024334fb35",
       "version_major": 2,
       "version_minor": 0
      },
      "text/plain": [
       "Button(description='[p]=Ns', style=ButtonStyle())"
      ]
     },
     "metadata": {},
     "output_type": "display_data"
    },
    {
     "data": {
      "application/vnd.jupyter.widget-view+json": {
       "model_id": "59153de948ab41a8bfcc906fb854eabf",
       "version_major": 2,
       "version_minor": 0
      },
      "text/plain": [
       "Output()"
      ]
     },
     "metadata": {},
     "output_type": "display_data"
    },
    {
     "data": {
      "application/vnd.jupyter.widget-view+json": {
       "model_id": "95cb8cbe6edc4e1c8f4d0cb7e060606d",
       "version_major": 2,
       "version_minor": 0
      },
      "text/plain": [
       "Button(description='[E]=V/m', style=ButtonStyle())"
      ]
     },
     "metadata": {},
     "output_type": "display_data"
    },
    {
     "data": {
      "application/vnd.jupyter.widget-view+json": {
       "model_id": "9b50be46181446f0abd26e2106db55af",
       "version_major": 2,
       "version_minor": 0
      },
      "text/plain": [
       "Output()"
      ]
     },
     "metadata": {},
     "output_type": "display_data"
    },
    {
     "data": {
      "application/vnd.jupyter.widget-view+json": {
       "model_id": "923896e9c87a42ceaa0aae265a5fdb16",
       "version_major": 2,
       "version_minor": 0
      },
      "text/plain": [
       "Button(description='[C]=F', style=ButtonStyle())"
      ]
     },
     "metadata": {},
     "output_type": "display_data"
    },
    {
     "data": {
      "application/vnd.jupyter.widget-view+json": {
       "model_id": "4b112f552a95488e971d56be021dab28",
       "version_major": 2,
       "version_minor": 0
      },
      "text/plain": [
       "Output()"
      ]
     },
     "metadata": {},
     "output_type": "display_data"
    }
   ],
   "source": [
    "# Newtonmeter\n",
    "button = widgets.Button(description='[F]=Nm')   # create button\n",
    "out = widgets.Output()                      # create output\n",
    "\n",
    "def clicked(x):                             # connecting function and output\n",
    "    with out:\n",
    "        clear_output()                      # clear output if button is clicked again\n",
    "        display(Markdown('$Nm=kg*m/s²  *m = kg*m²/s²$'))\n",
    "\n",
    "button.on_click(clicked)                    # execute function 'clicked' on click\n",
    "display(button,out)                         # display Button and output\n",
    "\n",
    "#Leistung - Watt\n",
    "button = widgets.Button(description='[P]=W')   # create button\n",
    "out = widgets.Output()                      # create output\n",
    "\n",
    "def clicked(x):                             # connecting function and output\n",
    "    with out:\n",
    "        clear_output()                      # clear output if button is clicked again\n",
    "        display(Markdown('$W=J/s = N*m/s = kg*m²/s³$'))\n",
    "\n",
    "button.on_click(clicked)                    # execute function 'clicked' on click\n",
    "display(button,out)                         # display Button and output\n",
    "\n",
    "#Energie - Joule\n",
    "button = widgets.Button(description='[W]=J')   # create button\n",
    "out = widgets.Output()                      # create output\n",
    "\n",
    "def clicked(x):                             # connecting function and output\n",
    "    with out:\n",
    "        clear_output()                      # clear output if button is clicked again\n",
    "        display(Markdown('$J=N*m = kg*m²/s²$'))\n",
    "\n",
    "button.on_click(clicked)                    # execute function 'clicked' on click\n",
    "display(button,out)                         # display Button and output\n",
    "\n",
    "#Widerstand - Ohm\n",
    "button = widgets.Button(description='[R]=Ω')   # create button\n",
    "out = widgets.Output()                      # create output\n",
    "\n",
    "def clicked(x):                             # connecting function and output\n",
    "    with out:\n",
    "        clear_output()                      # clear output if button is clicked again\n",
    "        display(Markdown('$Ω=V/A=kg*m²/A²*s³$'))\n",
    "\n",
    "button.on_click(clicked)                    # execute function 'clicked' on click\n",
    "display(button,out)                         # display Button and output\n",
    "\n",
    "#Spannung - Volt\n",
    "button = widgets.Button(description='[U]=V')   # create button\n",
    "out = widgets.Output()                      # create output\n",
    "\n",
    "def clicked(x):                             # connecting function and output\n",
    "    with out:\n",
    "        clear_output()                      # clear output if button is clicked again\n",
    "        display(Markdown('$V= N*m/A*s = kg*m²/A*s³$'))\n",
    "\n",
    "button.on_click(clicked)                    # execute function 'clicked' on click\n",
    "display(button,out)                         # display Button and output\n",
    "\n",
    "#elektr. Ladung - Coulomb\n",
    "button = widgets.Button(description='[Q]=C')   # create button\n",
    "out = widgets.Output()                      # create output\n",
    "\n",
    "def clicked(x):                             # connecting function and output\n",
    "    with out:\n",
    "        clear_output()                      # clear output if button is clicked again\n",
    "        display(Markdown('$C=A*s$'))\n",
    "\n",
    "button.on_click(clicked)                    # execute function 'clicked' on click\n",
    "display(button,out)                         # display Button and output\n",
    "\n",
    "#Volumen - l\n",
    "button = widgets.Button(description='[V]=l')   # create button\n",
    "out = widgets.Output()                      # create output\n",
    "\n",
    "def clicked(x):                             # connecting function and output\n",
    "    with out:\n",
    "        clear_output()                      # clear output if button is clicked again\n",
    "        display(Markdown('$l=10^-³*m³$'))\n",
    "\n",
    "button.on_click(clicked)                    # execute function 'clicked' on click\n",
    "display(button,out)                         # display Button and output\n",
    "\n",
    "#Druck - Pa\n",
    "button = widgets.Button(description='[ρ]=Pa')   # create button\n",
    "out = widgets.Output()                      # create output\n",
    "\n",
    "def clicked(x):                             # connecting function and output\n",
    "    with out:\n",
    "        clear_output()                      # clear output if button is clicked again\n",
    "        display(Markdown('$Pa=N/m^²=kg/s²*m$'))\n",
    "\n",
    "button.on_click(clicked)                    # execute function 'clicked' on click\n",
    "display(button,out)                         # display Button and output\n",
    "\n",
    "#Frequenz - Hz\n",
    "button = widgets.Button(description='[f]=Hz')   # create button\n",
    "out = widgets.Output()                      # create output\n",
    "\n",
    "def clicked(x):                             # connecting function and output\n",
    "    with out:\n",
    "        clear_output()                      # clear output if button is clicked again\n",
    "        display(Markdown('$Hz=1/s$'))\n",
    "\n",
    "button.on_click(clicked)                    # execute function 'clicked' on click\n",
    "display(button,out)                         # display Button and output\n",
    "\n",
    "#Impuls - Ns\n",
    "button = widgets.Button(description='[p]=Ns')   # create button\n",
    "out = widgets.Output()                      # create output\n",
    "\n",
    "def clicked(x):                             # connecting function and output\n",
    "    with out:\n",
    "        clear_output()                      # clear output if button is clicked again\n",
    "        display(Markdown('$Ns=kg*m/s$'))\n",
    "\n",
    "button.on_click(clicked)                    # execute function 'clicked' on click\n",
    "display(button,out)                         # display Button and output\n",
    "\n",
    "#Elektrische Feldstärke - V/m\n",
    "button = widgets.Button(description='[E]=V/m')   # create button\n",
    "out = widgets.Output()                      # create output\n",
    "\n",
    "def clicked(x):                             # connecting function and output\n",
    "    with out:\n",
    "        clear_output()                      # clear output if button is clicked again\n",
    "        display(Markdown('$V/m=N/C$'))\n",
    "\n",
    "button.on_click(clicked)                    # execute function 'clicked' on click\n",
    "display(button,out)                         # display Button and output\n",
    "\n",
    "#Kapazität - F\n",
    "button = widgets.Button(description='[C]=F')   # create button\n",
    "out = widgets.Output()                      # create output\n",
    "\n",
    "def clicked(x):                             # connecting function and output\n",
    "    with out:\n",
    "        clear_output()                      # clear output if button is clicked again\n",
    "        display(Markdown('$F=A*s/V$'))\n",
    "\n",
    "button.on_click(clicked)                    # execute function 'clicked' on click\n",
    "display(button,out)                         # display Button and output"
   ]
  },
  {
   "cell_type": "code",
   "execution_count": 3,
   "metadata": {},
   "outputs": [
    {
     "name": "stdout",
     "output_type": "stream",
     "text": [
      "Gib die zu konvertierende Zahl ein (OHNE Einheit!): 1\n",
      "1\n"
     ]
    },
    {
     "data": {
      "text/markdown": [
       "1"
      ],
      "text/plain": [
       "<IPython.core.display.Markdown object>"
      ]
     },
     "metadata": {},
     "output_type": "display_data"
    }
   ],
   "source": [
    "'''\n",
    "Noch zu beachten ist:\n",
    "float number if statemant wird übersprungen direkt zur else bedingung;\n",
    "negative zahlen werden nicht konvertiert\n",
    "'''\n",
    "# Power converter\n",
    "nbr = input('Gib die zu konvertierende Zahl ein (OHNE Einheit!): ')\n",
    "\n",
    "#convert input in int/float\n",
    "try:\n",
    "    nbr_int = int(nbr)\n",
    "except:\n",
    "    try:\n",
    "        nbr_int = float(nbr)\n",
    "    except:\n",
    "        display(Markdown(f'{nbr} is no number'))\n",
    "\n",
    "print(nbr_int)\n",
    "    \n",
    "#search power for integer or float\n",
    "if nbr_int == 0:\n",
    "    display(Markdown('$0$'))\n",
    "elif nbr_int >= 1 or nbr_int <= -1:\n",
    "    if nbr_int < 100 and nbr_int >= 1 or nbr_int <= -1 and nbr_int > -100:\n",
    "        display(Markdown(f'{nbr_int}'))\n",
    "    elif nbr_int >= 100 and nbr_int < 10**3 or nbr_int <= -100 and nbr_int > -10**3:\n",
    "        nbr_int = nbr_int /10**2\n",
    "        display(Markdown(f'{nbr_int} $ * 10^2$'))\n",
    "    elif nbr_int >= 1000 and nbr_int < 10**4 or nbr_int <= -10**3 and nbr_int > -10**4:\n",
    "        nbr_int = nbr_int /10**3\n",
    "        display(Markdown(f'{nbr_int}$*10^3$'))\n",
    "    elif nbr_int >= 10000 and nbr_int < 10**5 or nbr_int <= -10**4 and nbr_int > -10**5:\n",
    "        nbr_int = nbr_int /10**3\n",
    "        display(Markdown(f'{nbr_int}$*10^3$'))\n",
    "    elif nbr_int >= 100000 and nbr_int < 10**6 or nbr_int <= -10**5 and nbr_int > -10**6:\n",
    "        nbr_int = nbr_int /10**3\n",
    "        display(Markdown(f'{nbr_int}$*10^3$'))\n",
    "    elif nbr_int >= 1000000 and nbr_int < 10**7 or nbr_int <= -10**6 and nbr_int > -10**7:\n",
    "        nbr_int = nbr_int /10**6\n",
    "        display(Markdown(f'{nbr_int}$*10^6$'))\n",
    "    elif nbr_int >= 10**7 and nbr_int < 10**8 or nbr_int <= -10**7 and nbr_int > -10**8:\n",
    "        nbr_int = nbr_int /10**6\n",
    "        display(Markdown(f'{nbr_int}$*10^6$'))\n",
    "    elif nbr_int >= 10**8 and nbr_int < 1*10**9 or nbr_int <= -10**8 and nbr_int > -10**9:\n",
    "        nbr_int = nbr_int /10**6\n",
    "        display(Markdown(f'{nbr_int}$*10^6$'))\n",
    "    elif nbr_int >= 1*10**9 and nbr_int < 1*10**10 or nbr_int <= -10**9 and nbr_int > -10**10:\n",
    "        nbr_int = nbr_int /10**9\n",
    "        display(Markdown(f'{nbr_int}$*10^9$'))\n",
    "    elif nbr_int >= 1*10**10 and nbr_int < 1*10**11 or nbr_int <= -10**10 and nbr_int > -10**11:\n",
    "        nbr_int = nbr_int /10**9\n",
    "        display(Markdown(f'{nbr_int}$*10^9$'))\n",
    "    elif nbr_int >= 1*10**11 and nbr_int < 1*10**12 or nbr_int <= -10**11 and nbr_int > -10**12:\n",
    "        nbr_int = nbr_int /10**9\n",
    "        display(Markdown(f'{nbr_int}$*10^9$'))\n",
    "    elif nbr_int >= 1*10**12 and nbr_int < 1*10**13 or nbr_int <= -10**12 and nbr_int > -10**13:\n",
    "        nbr_int = nbr_int /10**12\n",
    "        display(Markdown(f'{nbr_int}$*10^(12)$'))\n",
    "    elif nbr_int >= 1*10**13 and nbr_int < 1*10**14 or nbr_int <= -10**13 and nbr_int > -10**14:\n",
    "        nbr_int = nbr_int /10**12\n",
    "        display(Markdown(f'{nbr_int}$*10^(12)$'))\n",
    "    elif nbr_int >= 1*10**14 and nbr_int < 1*10**15 or nbr_int <= -10**14 and nbr_int > -10**15:\n",
    "        nbr_int = nbr_int /10**12\n",
    "        display(Markdown(f'{nbr_int}$*10^(12)$'))\n",
    "    elif nbr_int >= 1*10**15 and nbr_int < 1*10**16 or nbr_int <= -10**15 and nbr_int > -10**16:\n",
    "        nbr_int = nbr_int /10**15\n",
    "        display(Markdown(f'{nbr_int}$*10^(15)$'))\n",
    "    elif nbr_int >= 1*10**16 and nbr_int < 1*10**17 or nbr_int <= -10**16 and nbr_int > -10**17:\n",
    "        nbr_int = nbr_int /10**15\n",
    "        display(Markdown(f'{nbr_int}$*10^(15)$'))\n",
    "    elif nbr_int >= 1*10**17 and nbr_int < 1*10**18 or nbr_int <= -10**17 and nbr_int > -10**18:\n",
    "        nbr_int = nbr_int /10**15\n",
    "        display(Markdown(f'{nbr_int}$*10^(15)$'))\n",
    "    elif nbr_int >= 1*10**18 and nbr_int < 1*10**19 or nbr_int <= -10**18 and nbr_int > -10**19:\n",
    "        nbr_int = nbr_int /10**18\n",
    "        display(Markdown(f'{nbr_int}$*10^(18)$'))\n",
    "    elif nbr_int >= 1*10**19 and nbr_int < 1*10**20 or nbr_int <= -10**19 and nbr_int > -10**20:\n",
    "        nbr_int = nbr_int /10**18\n",
    "        display(Markdown(f'{nbr_int}$*10^(18)$'))\n",
    "    elif nbr_int >= 1*10**20 and nbr_int < 1*10**21 or nbr_int <= -10**20 and nbr_int > -10**21:\n",
    "        nbr_int = nbr_int /10**18\n",
    "        display(Markdown(f'{nbr_int}$*10^(18)$'))\n",
    "    elif nbr_int >= 1*10**21 and nbr_int < 1*10**22 or nbr_int <= -10**21 and nbr_int > -10**22:\n",
    "        nbr_int = nbr_int /10**21\n",
    "        display(Markdown(f'{nbr_int}$*10^(21)$'))\n",
    "    elif nbr_int >= 1*10**22 and nbr_int < 1*10**23 or nbr_int <= -10**22 and nbr_int > -10**23:\n",
    "        nbr_int = nbr_int /10**21\n",
    "        display(Markdown(f'{nbr_int}$*10^(21)$'))\n",
    "    elif nbr_int >= 1*10**23 and nbr_int < 1*10**24 or nbr_int <= -10**23 and nbr_int > -10**24:\n",
    "        nbr_int = nbr_int /10**21\n",
    "        display(Markdown(f'{nbr_int}$*10^(21)$'))\n",
    "    elif nbr_int >= 1*10**24 and nbr_int < 1*10**25 or nbr_int <= -10**24 and nbr_int > -10**25:\n",
    "        nbr_int = nbr_int /10**24\n",
    "        display(Markdown(f'{nbr_int}$*10^(24)$'))\n",
    "    elif nbr_int >= 1*10**25 and nbr_int < 1*10**26 or nbr_int <= -10**25 and nbr_int > -10**26:\n",
    "        nbr_int = nbr_int /10**24\n",
    "        display(Markdown(f'{nbr_int}$*10^(24)$'))\n",
    "    elif nbr_int >= 1*10**26 and nbr_int < 1*10**27 or nbr_int <= -10**26 and nbr_int > -10**27:\n",
    "        nbr_int = nbr_int /10**24\n",
    "        display(Markdown(f'{nbr_int}$*10^(24)$'))\n",
    "    else:\n",
    "        display(Markdown('Nummer zu groß! Maximale Zahlen bis $9.9999*10^27$'))\n",
    "elif nbr_int > 0 and nbr_int < 1 or nbr_int < 0 and nbr_int > -1:\n",
    "    if nbr_int < 1 and nbr_int >= 10**-2:\n",
    "        display(Markdown(f'{nbr_int}'))\n",
    "    elif nbr_int < 10**-2 and nbr_int >= 1*10**-3 or nbr_int >= -10**-2 and nbr_int < -10**-3:\n",
    "        nbr_int = nbr_int * 10**3\n",
    "        display(Markdown(f'{nbr_int}$*10^-3$'))\n",
    "    elif nbr_int < 10**-3 and nbr_int >= 1*10**-4 or nbr_int >= -10**-3 and nbr_int < -10**-4:\n",
    "        nbr_int = nbr_int * 10**3\n",
    "        display(Markdown(f'{nbr_int}$*10^-3$'))\n",
    "    elif nbr_int < 10**-4 and nbr_int >= 1*10**-5 or nbr_int >= -10**-4 and nbr_int < -10**-5:\n",
    "        nbr_int = nbr_int * 10**3\n",
    "        display(Markdown(f'{nbr_int}$*10^-3$'))\n",
    "    elif nbr_int < 10**-5 and nbr_int >= 1*10**-6 or nbr_int >= -10**-5 and nbr_int < -10**-6:\n",
    "        nbr_int = nbr_int * 10**6\n",
    "        display(Markdown(f'{nbr_int}$*10^-6$'))\n",
    "    elif nbr_int < 10**-6 and nbr_int >= 1*10**-7 or nbr_int >= -10**-6 and nbr_int < -10**-7:\n",
    "        nbr_int = nbr_int * 10**6\n",
    "        display(Markdown(f'{nbr_int}$*10^-6$'))\n",
    "    elif nbr_int < 10**-7 and nbr_int >= 1*10**-8 or nbr_int >= -10**-7 and nbr_int < -10**-8:\n",
    "        nbr_int = nbr_int * 10**6\n",
    "        display(Markdown(f'{nbr_int}$*10^-6$'))\n",
    "    elif nbr_int < 1*10**-8 and nbr_int >= 1*10**-9 or nbr_int >= -10**-8 and nbr_int < -10**-9:\n",
    "        nbr_int = nbr_int * 10**9\n",
    "        display(Markdown(f'{nbr_int}$*10^-9$'))\n",
    "    elif nbr_int < 1*10**-9 and nbr_int >= 1*10**-10 or nbr_int >= -10**-9 and nbr_int < -10**-10:\n",
    "        nbr_int = nbr_int * 10**9\n",
    "        display(Markdown(f'{nbr_int}$*10^-9$'))\n",
    "    elif nbr_int < 1*10**-10 and nbr_int >= 1*10**-11 or nbr_int >= -10**-10 and nbr_int < -10**-11:\n",
    "        nbr_int = nbr_int *10**9\n",
    "        display(Markdown(f'{nbr_int}$*10^-9$'))\n",
    "    elif nbr_int < 1*10**-11 and nbr_int >= 1*10**-12 or nbr_int >= -10**-11 and nbr_int < -10**-12:\n",
    "        nbr_int = nbr_int *10**12\n",
    "        display(Markdown(f'{nbr_int}$*10^-(12)$'))\n",
    "    elif nbr_int < 1*10**-12 and nbr_int >= 1*10**-13 or nbr_int >= -10**-12 and nbr_int < -10**-13:\n",
    "        nbr_int = nbr_int *10**12\n",
    "        display(Markdown(f'{nbr_int}$*10^-(12)$'))\n",
    "    elif nbr_int < 1*10**-13 and nbr_int >= 1*10**-14 or nbr_int >= -10**-13 and nbr_int < -10**-14:\n",
    "        nbr_int = nbr_int *10**12\n",
    "        display(Markdown(f'{nbr_int}$*10^-(12)$'))\n",
    "    elif nbr_int < 1*10**-14 and nbr_int >= 1*10**-15 or nbr_int >= -10**-14 and nbr_int < -10**-15:\n",
    "        nbr_int = nbr_int *10**15\n",
    "        display(Markdown(f'{nbr_int}$*10^-(15)$'))\n",
    "    elif nbr_int < 1*10**-15 and nbr_int >= 1*10**-16 or nbr_int >= -10**-15 and nbr_int < -10**-16:\n",
    "        nbr_int = nbr_int *10**15\n",
    "        display(Markdown(f'{nbr_int}$*10^-(15)$'))\n",
    "    elif nbr_int < 1*10**-16 and nbr_int >= 1*10**-17 or nbr_int >= -10**-16 and nbr_int < -10**-17:\n",
    "        nbr_int = nbr_int *10**15\n",
    "        display(Markdown(f'{nbr_int}$*10^-(15)$'))\n",
    "    elif nbr_int < 1*10**-17 and nbr_int >= 1*10**-18 or nbr_int >= -10**-17 and nbr_int < -10**-18:\n",
    "        nbr_int = nbr_int *10**18\n",
    "        display(Markdown(f'{nbr_int}$*10^-(18)$'))\n",
    "    elif nbr_int < 1*10**-18 and nbr_int >= 1*10**-19 or nbr_int >= -10**-18 and nbr_int < -10**-19:\n",
    "        nbr_int = nbr_int *10**18\n",
    "        display(Markdown(f'{nbr_int}$*10^-(18)$'))\n",
    "    elif nbr_int < 1*10**-19 and nbr_int >= 1*10**-20 or nbr_int >= -10**-19 and nbr_int < -10**-20:\n",
    "        nbr_int = nbr_int *10**18\n",
    "        display(Markdown(f'{nbr_int}$*10^-(18)$'))\n",
    "    elif nbr_int < 1*10**-20 and nbr_int >= 1*10**-21 or nbr_int >= -10**-20 and nbr_int < -10**-21:\n",
    "        nbr_int = nbr_int *10**21\n",
    "        display(Markdown(f'{nbr_int}$*10^-(21)$'))\n",
    "    elif nbr_int < 1*10**-21 and nbr_int >= 1*10**-22 or nbr_int >= -10**-21 and nbr_int < -10**-22:\n",
    "        nbr_int = nbr_int *10**21\n",
    "        display(Markdown(f'{nbr_int}$*10^-(21)$'))\n",
    "    elif nbr_int < 1*10**-22 and nbr_int >= 1*10**-23 or nbr_int >= -10**-22 and nbr_int < -10**-23:\n",
    "        nbr_int = nbr_int *10**21\n",
    "        display(Markdown(f'{nbr_int}$*10^-(21)$'))\n",
    "    elif nbr_int < 1*10**-23 and nbr_int >= 1*10**-24 or nbr_int >= -10**-23 and nbr_int < -10**-24:\n",
    "        nbr_int = nbr_int *10**24\n",
    "        display(Markdown(f'{nbr_int}$*10^-(24)$'))\n",
    "    elif nbr_int < 1*10**-24 and nbr_int >= 1*10**-25 or nbr_int >= -10**-24 and nbr_int < -10**-25:\n",
    "        nbr_int = nbr_int *10**24\n",
    "        display(Markdown(f'{nbr_int}$*10^-(24)$'))\n",
    "    elif nbr_int < 1*10**-25 and nbr_int >= 1*10**-26 or nbr_int >= -10**-25 and nbr_int < -10**-26:\n",
    "        nbr_int = nbr_int *10**24\n",
    "        display(Markdown(f'{nbr_int}$*10^-(24)$'))\n",
    "    else:\n",
    "        display(Markdown('Nummer zu klein! Minimale Zahlen bis $9.9999*10^-27$'))\n",
    "else:\n",
    "    display(Markdown('Die Zahl konnte nicht erkannt werden! (Lassen Sie die Einheit weg)'))\n",
    "    "
   ]
  },
  {
   "cell_type": "markdown",
   "metadata": {},
   "source": [
    "## Danksagung\n",
    "\n",
    "\n",
    "Dieses digitale Lehr-/Lernmaterial wurde im Rahmen des Programms [Fellowships für Innovationen in der digitalen Hochschullehre](https://www.stifterverband.org/digital-lehrfellows-nrw/2019/temmen_kersten) des Ministeriums für Kultur und Wissenschaft des Landes Nordrhein-Westfalen und des Stifterverbandes entwickelt. \n",
    "\n",
    "Die Autoren stellen dieses digitale Lehr-/Lernmateriales als Open Educational Ressources unter der Lizenz [Creative Commons Attribution-ShareAlike 4.0 International License (CC BY-SA 4.0)](https://creativecommons.org/licenses/by-sa/4.0/) zur Verfügung.\n",
    "\n",
    "\n",
    "    \n",
    "<img align=\"left\" src=\"https://licensebuttons.net/l/by-sa/3.0/88x31.png\">"
   ]
  },
  {
   "cell_type": "code",
   "execution_count": null,
   "metadata": {},
   "outputs": [],
   "source": []
  }
 ],
 "metadata": {
  "kernelspec": {
   "display_name": "Python 3",
   "language": "python",
   "name": "python3"
  },
  "language_info": {
   "codemirror_mode": {
    "name": "ipython",
    "version": 3
   },
   "file_extension": ".py",
   "mimetype": "text/x-python",
   "name": "python",
   "nbconvert_exporter": "python",
   "pygments_lexer": "ipython3",
   "version": "3.8.3"
  }
 },
 "nbformat": 4,
 "nbformat_minor": 4
}
