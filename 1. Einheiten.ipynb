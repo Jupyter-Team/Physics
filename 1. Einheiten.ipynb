{
 "cells": [
  {
   "cell_type": "markdown",
   "metadata": {},
   "source": [
    "# Smarte und interaktive Kurzskripte (smartiS)\n",
    "\n",
    "\n",
    " \n",
    "[P. Kersten](https://www.hshl.de/personen/prof-dr-ing-peter-kersten), [J. Jeschonowski](https://www.xing.com/profile/Jule_Jeschonowski/cv), [L.P. Kamegne-Kamdem](https://www.linkedin.com/in/leger-paco-kamegne-kamdem-07ba39184/), [N.B. Neathery](https://www.linkedin.com/in/noel-neathery-6371561a6/) und D.M. Weis\n",
    "\n",
    "[Hochschule Hamm-Lippstadt](https://www.hshl.de), Marker Allee 76–78, D-59063 Hamm\n",
    "___\n",
    "## 1. Einheiten"
   ]
  },
  {
   "cell_type": "code",
   "execution_count": 1,
   "metadata": {},
   "outputs": [
    {
     "data": {
      "text/html": [
       "<script>$(\"div.input\").hide()</script>"
      ],
      "text/plain": [
       "<IPython.core.display.HTML object>"
      ]
     },
     "metadata": {},
     "output_type": "display_data"
    },
    {
     "data": {
      "application/vnd.jupyter.widget-view+json": {
       "model_id": "f5e923d8f6bb4cf1a3a0304f69f7d3f7",
       "version_major": 2,
       "version_minor": 0
      },
      "text/plain": [
       "ToggleButton(value=False, description='Quellcode anzeigen')"
      ]
     },
     "metadata": {},
     "output_type": "display_data"
    },
    {
     "data": {
      "text/html": [
       "<script>$(\"div.input\").show()</script>"
      ],
      "text/plain": [
       "<IPython.core.display.HTML object>"
      ]
     },
     "metadata": {},
     "output_type": "display_data"
    }
   ],
   "source": [
    "#____import____\n",
    "\n",
    "%matplotlib inline\n",
    "\n",
    "import numpy as np\n",
    "import ipywidgets as widgets\n",
    "\n",
    "from ipywidgets import interact\n",
    "from IPython.display import Markdown, clear_output, display, HTML\n",
    "\n",
    "javascript_functions = {False: \"hide()\", True: \"show()\"}\n",
    "button_descriptions  = {False: \"Code anzeigen\", True: \"Code verbergen\"}\n",
    "\n",
    "\n",
    "javascript_funktion = {False: \"hide()\", True: \"show()\"}\n",
    "schaltflaeche  = {False: \"Quellcode anzeigen\", True: \"Quellcode verbergen\"}\n",
    "\n",
    "\n",
    "def quellcode_umschalten(state):\n",
    "\n",
    "    output_string = \"<script>$(\\\"div.input\\\").{}</script>\"\n",
    "    output_args   = (javascript_funktion[state],)\n",
    "    output        = output_string.format(*output_args)\n",
    "    display(HTML(output))\n",
    "\n",
    "\n",
    "def schaltflaeche_aktion(value):\n",
    "\n",
    "    state = value.new\n",
    "    quellcode_umschalten(state)\n",
    "    value.owner.description = schaltflaeche[state]\n",
    "\n",
    "\n",
    "state = False\n",
    "quellcode_umschalten(state)\n",
    "\n",
    "button = widgets.ToggleButton(state, description = schaltflaeche[state])\n",
    "button.observe(schaltflaeche_aktion, \"value\")\n",
    "\n",
    "display(button)"
   ]
  },
  {
   "cell_type": "markdown",
   "metadata": {},
   "source": [
    "### Beispiel: Einheitentransformieren\n",
    "Jede Einheit lässt sich in einer Zusammenstellung aus Teilen der sieben SI Einheiten Kilogramm, Meter, Sekunde, Amper, Candela, Kelvin und Mol umschreiben. So lässt sich beispielsweise $N$ in $\\frac{kg*m}{s^2}$ darstellen. Dies folgt aus der Formel $F=m*a$.<br>\n",
    "Desweiteren können große Zahlen in Zehner Potenzen umgeschrieben werden. Jede dieser Zehnerpotenzen hat einen Namen und gibt die Vorsilbe für die Einheit. Z.B. $1500 g=1,5*10^{3} g=1,5 kg$.<br>\n",
    "<table style=\"width:50%\">\n",
    "<tr>\n",
    "    <th>Vorsilbe</th>\n",
    "    <th>Kürzel</th>\n",
    "    <th>Potenz</th>\n",
    "</tr> \n",
    "<tr>\n",
    "    <th>Yotta</th>\n",
    "    <th>Y</th>\n",
    "    <th>$10^{24}$</th>\n",
    "</tr>\n",
    "<tr>\n",
    "    <th>Zetta</th>\n",
    "    <th>Z</th>\n",
    "    <th>$10^{21}$</th>\n",
    "</tr>\n",
    "<tr>\n",
    "    <th>Exa</th>\n",
    "    <th>E</th>\n",
    "    <th>$10^{18}$</th>\n",
    "</tr>\n",
    "<tr>\n",
    "    <th>Peta</th>\n",
    "    <th>P</th>\n",
    "    <th>$10^{15}$</th>\n",
    "</tr>\n",
    "<tr>\n",
    "    <th>Tera</th>\n",
    "    <th>T</th>\n",
    "    <th>$10^{12}$</th>\n",
    "</tr>\n",
    "<tr>\n",
    "    <th>Giga</th>\n",
    "    <th>G</th>\n",
    "    <th>$10^{9}$</th>\n",
    "</tr>\n",
    "<tr>\n",
    "    <th>Mega</th>\n",
    "    <th>M</th>\n",
    "    <th>$10^{6}$</th>\n",
    "</tr>\n",
    "<tr>\n",
    "    <th>Kilo</th>\n",
    "    <th>k</th>\n",
    "    <th>$10^{24}$</th>\n",
    "</tr>\n",
    "<tr>\n",
    "    <th>Hecto</th>\n",
    "    <th>h</th>\n",
    "    <th>$10^{2}$</th>\n",
    "</tr>\n",
    "<tr>\n",
    "    <th>Standard</th>\n",
    "    <th></th>\n",
    "    <th>$10^{0}$</th>\n",
    "</tr>\n",
    "<tr>\n",
    "    <th>dezi</th>\n",
    "    <th>d</th>\n",
    "    <th>$10^{-1}$</th>\n",
    "</tr>\n",
    "<tr>\n",
    "    <th>centi</th>\n",
    "    <th>c</th>\n",
    "    <th>$10^{-2}$</th>\n",
    "</tr>\n",
    "<tr>\n",
    "    <th>milli</th>\n",
    "    <th>m</th>\n",
    "    <th>$10^{-3}$</th>\n",
    "</tr>\n",
    "<tr>\n",
    "    <th>mikro</th>\n",
    "    <th>$\\mu$</th>\n",
    "    <th>$10^{-6}$</th>\n",
    "</tr>\n",
    "<tr>\n",
    "    <th>nano</th>\n",
    "    <th>n</th>\n",
    "    <th>$10^{-9}$</th>\n",
    "</tr>\n",
    "<tr>\n",
    "    <th>piko</th>\n",
    "    <th>p</th>\n",
    "    <th>$10^{-12}$</th>\n",
    "</tr>\n",
    "<tr>\n",
    "    <th>femto</th>\n",
    "    <th>f</th>\n",
    "    <th>$10^{-15}$</th>\n",
    "</tr>\n",
    "<tr>\n",
    "    <th>atto</th>\n",
    "    <th>a</th>\n",
    "    <th>$10^{-18}$</th>\n",
    "</tr>\n",
    "<tr>\n",
    "    <th>zepto</th>\n",
    "    <th>z</th>\n",
    "    <th>$10^{-21}$</th>\n",
    "</tr>\n",
    "<tr>\n",
    "    <th>yocto</th>\n",
    "    <th>y</th>\n",
    "    <th>$10^{-24}$</th>\n",
    "</tr>"
   ]
  },
  {
   "cell_type": "markdown",
   "metadata": {},
   "source": [
    "**Knowledge Check(s):**\n",
    "<ul>\n",
    "    <li>Überlege dir anhand der physikalischen Formeln, wie weit man die jeweiligen Einheiten herunterbrechen kann. Kontrolliere anschließend deine Ergebnisse mit Hilfe der Buttons</li>\n",
    "    <li>Bestimme die Potenzen und das zugehörige Kürzel dazu! Überprüfe dich mit der Software!</li>\n",
    "    <ol>\n",
    "        <li>1000000 N</li>\n",
    "        <li>mehr random Zahlen die es zu Überprüfen gibt</li>\n",
    "    </ol>\n",
    "</ul>"
   ]
  },
  {
   "cell_type": "code",
   "execution_count": 2,
   "metadata": {},
   "outputs": [
    {
     "data": {
      "application/vnd.jupyter.widget-view+json": {
       "model_id": "e9672f0f08d34efc97d4cae6728bbcb1",
       "version_major": 2,
       "version_minor": 0
      },
      "text/plain": [
       "Button(description='[F]=Nm', style=ButtonStyle())"
      ]
     },
     "metadata": {},
     "output_type": "display_data"
    },
    {
     "data": {
      "application/vnd.jupyter.widget-view+json": {
       "model_id": "15563b9d5f5046cb940fbc7e13110391",
       "version_major": 2,
       "version_minor": 0
      },
      "text/plain": [
       "Output()"
      ]
     },
     "metadata": {},
     "output_type": "display_data"
    },
    {
     "data": {
      "application/vnd.jupyter.widget-view+json": {
       "model_id": "11dfd271f03c4c2ba18a29cf46b539ce",
       "version_major": 2,
       "version_minor": 0
      },
      "text/plain": [
       "Button(description='[P]=W', style=ButtonStyle())"
      ]
     },
     "metadata": {},
     "output_type": "display_data"
    },
    {
     "data": {
      "application/vnd.jupyter.widget-view+json": {
       "model_id": "82c0fb0f0f7a4ce9bead5985d843b715",
       "version_major": 2,
       "version_minor": 0
      },
      "text/plain": [
       "Output()"
      ]
     },
     "metadata": {},
     "output_type": "display_data"
    },
    {
     "data": {
      "application/vnd.jupyter.widget-view+json": {
       "model_id": "9c37b12cfc024ee1968fb1cefeb40991",
       "version_major": 2,
       "version_minor": 0
      },
      "text/plain": [
       "Button(description='[W]=J', style=ButtonStyle())"
      ]
     },
     "metadata": {},
     "output_type": "display_data"
    },
    {
     "data": {
      "application/vnd.jupyter.widget-view+json": {
       "model_id": "e078b9fc79c94458a656483e9cc92fe0",
       "version_major": 2,
       "version_minor": 0
      },
      "text/plain": [
       "Output()"
      ]
     },
     "metadata": {},
     "output_type": "display_data"
    },
    {
     "data": {
      "application/vnd.jupyter.widget-view+json": {
       "model_id": "0810744cef124853aaae84df7903e89e",
       "version_major": 2,
       "version_minor": 0
      },
      "text/plain": [
       "Button(description='[R]=Ω', style=ButtonStyle())"
      ]
     },
     "metadata": {},
     "output_type": "display_data"
    },
    {
     "data": {
      "application/vnd.jupyter.widget-view+json": {
       "model_id": "e5789529d4db4bb5b03b230392dc2dee",
       "version_major": 2,
       "version_minor": 0
      },
      "text/plain": [
       "Output()"
      ]
     },
     "metadata": {},
     "output_type": "display_data"
    },
    {
     "data": {
      "application/vnd.jupyter.widget-view+json": {
       "model_id": "b615c85c037f40dcb79626a4f5d5fea3",
       "version_major": 2,
       "version_minor": 0
      },
      "text/plain": [
       "Button(description='[U]=V', style=ButtonStyle())"
      ]
     },
     "metadata": {},
     "output_type": "display_data"
    },
    {
     "data": {
      "application/vnd.jupyter.widget-view+json": {
       "model_id": "bbe3c81365984a9891e660ea94a67de9",
       "version_major": 2,
       "version_minor": 0
      },
      "text/plain": [
       "Output()"
      ]
     },
     "metadata": {},
     "output_type": "display_data"
    },
    {
     "data": {
      "application/vnd.jupyter.widget-view+json": {
       "model_id": "4417cd2d6f6348fa84ed50251c671d22",
       "version_major": 2,
       "version_minor": 0
      },
      "text/plain": [
       "Button(description='[Q]=C', style=ButtonStyle())"
      ]
     },
     "metadata": {},
     "output_type": "display_data"
    },
    {
     "data": {
      "application/vnd.jupyter.widget-view+json": {
       "model_id": "4ffa7a50c04e4d6aaa5aa78ebb67d477",
       "version_major": 2,
       "version_minor": 0
      },
      "text/plain": [
       "Output()"
      ]
     },
     "metadata": {},
     "output_type": "display_data"
    },
    {
     "data": {
      "application/vnd.jupyter.widget-view+json": {
       "model_id": "ea94dc319a434ee88a6b18128649283b",
       "version_major": 2,
       "version_minor": 0
      },
      "text/plain": [
       "Button(description='[V]=l', style=ButtonStyle())"
      ]
     },
     "metadata": {},
     "output_type": "display_data"
    },
    {
     "data": {
      "application/vnd.jupyter.widget-view+json": {
       "model_id": "94efdedd1b624a5abdb1a1eaed14e57a",
       "version_major": 2,
       "version_minor": 0
      },
      "text/plain": [
       "Output()"
      ]
     },
     "metadata": {},
     "output_type": "display_data"
    },
    {
     "data": {
      "application/vnd.jupyter.widget-view+json": {
       "model_id": "26c7259310d34e55ac6e93396c0475ab",
       "version_major": 2,
       "version_minor": 0
      },
      "text/plain": [
       "Button(description='[ρ]=Pa', style=ButtonStyle())"
      ]
     },
     "metadata": {},
     "output_type": "display_data"
    },
    {
     "data": {
      "application/vnd.jupyter.widget-view+json": {
       "model_id": "0a63678ec3074dfaa61f6c72fc17e756",
       "version_major": 2,
       "version_minor": 0
      },
      "text/plain": [
       "Output()"
      ]
     },
     "metadata": {},
     "output_type": "display_data"
    },
    {
     "data": {
      "application/vnd.jupyter.widget-view+json": {
       "model_id": "1ab425f6434f46cbac08b3575dc5dc26",
       "version_major": 2,
       "version_minor": 0
      },
      "text/plain": [
       "Button(description='[f]=Hz', style=ButtonStyle())"
      ]
     },
     "metadata": {},
     "output_type": "display_data"
    },
    {
     "data": {
      "application/vnd.jupyter.widget-view+json": {
       "model_id": "679f956c5ec84e69ab2ac3c0a10e8bc2",
       "version_major": 2,
       "version_minor": 0
      },
      "text/plain": [
       "Output()"
      ]
     },
     "metadata": {},
     "output_type": "display_data"
    },
    {
     "data": {
      "application/vnd.jupyter.widget-view+json": {
       "model_id": "3683e0cfe9c2443fa12958d5c42a22e5",
       "version_major": 2,
       "version_minor": 0
      },
      "text/plain": [
       "Button(description='[p]=Ns', style=ButtonStyle())"
      ]
     },
     "metadata": {},
     "output_type": "display_data"
    },
    {
     "data": {
      "application/vnd.jupyter.widget-view+json": {
       "model_id": "83134111f8a1499488985e96a1167477",
       "version_major": 2,
       "version_minor": 0
      },
      "text/plain": [
       "Output()"
      ]
     },
     "metadata": {},
     "output_type": "display_data"
    },
    {
     "data": {
      "application/vnd.jupyter.widget-view+json": {
       "model_id": "d2a0a570a8ab40b78ecf444b6638e3eb",
       "version_major": 2,
       "version_minor": 0
      },
      "text/plain": [
       "Button(description='[E]=V/m', style=ButtonStyle())"
      ]
     },
     "metadata": {},
     "output_type": "display_data"
    },
    {
     "data": {
      "application/vnd.jupyter.widget-view+json": {
       "model_id": "16218380848b46109ed7da377f86b636",
       "version_major": 2,
       "version_minor": 0
      },
      "text/plain": [
       "Output()"
      ]
     },
     "metadata": {},
     "output_type": "display_data"
    },
    {
     "data": {
      "application/vnd.jupyter.widget-view+json": {
       "model_id": "395014ad5bde4a1bae7617ce5e54e34b",
       "version_major": 2,
       "version_minor": 0
      },
      "text/plain": [
       "Button(description='[C]=F', style=ButtonStyle())"
      ]
     },
     "metadata": {},
     "output_type": "display_data"
    },
    {
     "data": {
      "application/vnd.jupyter.widget-view+json": {
       "model_id": "fbaa93ec4e8740519ecc8b036aef7568",
       "version_major": 2,
       "version_minor": 0
      },
      "text/plain": [
       "Output()"
      ]
     },
     "metadata": {},
     "output_type": "display_data"
    }
   ],
   "source": [
    "# Newtonmeter\n",
    "button = widgets.Button(description='[F]=Nm')   # create button\n",
    "out = widgets.Output()                      # create output\n",
    "\n",
    "def clicked(x):                             # connecting function and output\n",
    "    with out:\n",
    "        clear_output()                      # clear output if button is clicked again\n",
    "        display(Markdown('$Nm=kg*m/s²  *m = kg*m²/s²$'))\n",
    "\n",
    "button.on_click(clicked)                    # execute function 'clicked' on click\n",
    "display(button,out)                         # display Button and output\n",
    "\n",
    "#Leistung - Watt\n",
    "button = widgets.Button(description='[P]=W')   # create button\n",
    "out = widgets.Output()                      # create output\n",
    "\n",
    "def clicked(x):                             # connecting function and output\n",
    "    with out:\n",
    "        clear_output()                      # clear output if button is clicked again\n",
    "        display(Markdown('$W=J/s = N*m/s = kg*m²/s³$'))\n",
    "\n",
    "button.on_click(clicked)                    # execute function 'clicked' on click\n",
    "display(button,out)                         # display Button and output\n",
    "\n",
    "#Energie - Joule\n",
    "button = widgets.Button(description='[W]=J')   # create button\n",
    "out = widgets.Output()                      # create output\n",
    "\n",
    "def clicked(x):                             # connecting function and output\n",
    "    with out:\n",
    "        clear_output()                      # clear output if button is clicked again\n",
    "        display(Markdown('$J=N*m = kg*m²/s²$'))\n",
    "\n",
    "button.on_click(clicked)                    # execute function 'clicked' on click\n",
    "display(button,out)                         # display Button and output\n",
    "\n",
    "#Widerstand - Ohm\n",
    "button = widgets.Button(description='[R]=Ω')   # create button\n",
    "out = widgets.Output()                      # create output\n",
    "\n",
    "def clicked(x):                             # connecting function and output\n",
    "    with out:\n",
    "        clear_output()                      # clear output if button is clicked again\n",
    "        display(Markdown('$Ω=V/A=kg*m²/A²*s³$'))\n",
    "\n",
    "button.on_click(clicked)                    # execute function 'clicked' on click\n",
    "display(button,out)                         # display Button and output\n",
    "\n",
    "#Spannung - Volt\n",
    "button = widgets.Button(description='[U]=V')   # create button\n",
    "out = widgets.Output()                      # create output\n",
    "\n",
    "def clicked(x):                             # connecting function and output\n",
    "    with out:\n",
    "        clear_output()                      # clear output if button is clicked again\n",
    "        display(Markdown('$V= N*m/A*s = kg*m²/A*s³$'))\n",
    "\n",
    "button.on_click(clicked)                    # execute function 'clicked' on click\n",
    "display(button,out)                         # display Button and output\n",
    "\n",
    "#elektr. Ladung - Coulomb\n",
    "button = widgets.Button(description='[Q]=C')   # create button\n",
    "out = widgets.Output()                      # create output\n",
    "\n",
    "def clicked(x):                             # connecting function and output\n",
    "    with out:\n",
    "        clear_output()                      # clear output if button is clicked again\n",
    "        display(Markdown('$C=A*s$'))\n",
    "\n",
    "button.on_click(clicked)                    # execute function 'clicked' on click\n",
    "display(button,out)                         # display Button and output\n",
    "\n",
    "#Volumen - l\n",
    "button = widgets.Button(description='[V]=l')   # create button\n",
    "out = widgets.Output()                      # create output\n",
    "\n",
    "def clicked(x):                             # connecting function and output\n",
    "    with out:\n",
    "        clear_output()                      # clear output if button is clicked again\n",
    "        display(Markdown('$l=10^-³*m³$'))\n",
    "\n",
    "button.on_click(clicked)                    # execute function 'clicked' on click\n",
    "display(button,out)                         # display Button and output\n",
    "\n",
    "#Druck - Pa\n",
    "button = widgets.Button(description='[ρ]=Pa')   # create button\n",
    "out = widgets.Output()                      # create output\n",
    "\n",
    "def clicked(x):                             # connecting function and output\n",
    "    with out:\n",
    "        clear_output()                      # clear output if button is clicked again\n",
    "        display(Markdown('$Pa=N/m^²=kg/s²*m$'))\n",
    "\n",
    "button.on_click(clicked)                    # execute function 'clicked' on click\n",
    "display(button,out)                         # display Button and output\n",
    "\n",
    "#Frequenz - Hz\n",
    "button = widgets.Button(description='[f]=Hz')   # create button\n",
    "out = widgets.Output()                      # create output\n",
    "\n",
    "def clicked(x):                             # connecting function and output\n",
    "    with out:\n",
    "        clear_output()                      # clear output if button is clicked again\n",
    "        display(Markdown('$Hz=1/s$'))\n",
    "\n",
    "button.on_click(clicked)                    # execute function 'clicked' on click\n",
    "display(button,out)                         # display Button and output\n",
    "\n",
    "#Impuls - Ns\n",
    "button = widgets.Button(description='[p]=Ns')   # create button\n",
    "out = widgets.Output()                      # create output\n",
    "\n",
    "def clicked(x):                             # connecting function and output\n",
    "    with out:\n",
    "        clear_output()                      # clear output if button is clicked again\n",
    "        display(Markdown('$Ns=kg*m/s$'))\n",
    "\n",
    "button.on_click(clicked)                    # execute function 'clicked' on click\n",
    "display(button,out)                         # display Button and output\n",
    "\n",
    "#Elektrische Feldstärke - V/m\n",
    "button = widgets.Button(description='[E]=V/m')   # create button\n",
    "out = widgets.Output()                      # create output\n",
    "\n",
    "def clicked(x):                             # connecting function and output\n",
    "    with out:\n",
    "        clear_output()                      # clear output if button is clicked again\n",
    "        display(Markdown('$V/m=N/C$'))\n",
    "\n",
    "button.on_click(clicked)                    # execute function 'clicked' on click\n",
    "display(button,out)                         # display Button and output\n",
    "\n",
    "#Kapazität - F\n",
    "button = widgets.Button(description='[C]=F')   # create button\n",
    "out = widgets.Output()                      # create output\n",
    "\n",
    "def clicked(x):                             # connecting function and output\n",
    "    with out:\n",
    "        clear_output()                      # clear output if button is clicked again\n",
    "        display(Markdown('$F=A*s/V$'))\n",
    "\n",
    "button.on_click(clicked)                    # execute function 'clicked' on click\n",
    "display(button,out)                         # display Button and output"
   ]
  },
  {
   "cell_type": "code",
   "execution_count": 3,
   "metadata": {},
   "outputs": [
    {
     "name": "stdout",
     "output_type": "stream",
     "text": [
      "Gib die zu konvertierende Zahl ein (OHNE Einheit!): -0.00000009\n",
      "-9e-08\n"
     ]
    },
    {
     "data": {
      "text/markdown": [
       "-0.09$*10^-6$"
      ],
      "text/plain": [
       "<IPython.core.display.Markdown object>"
      ]
     },
     "metadata": {},
     "output_type": "display_data"
    }
   ],
   "source": [
    "# Power converter\n",
    "nbr = input('Gib die zu konvertierende Zahl ein (OHNE Einheit!): ')\n",
    "\n",
    "#convert input in int/float\n",
    "try:\n",
    "    nbr_int = int(nbr)\n",
    "except:\n",
    "    try:\n",
    "        nbr_int = float(nbr)\n",
    "    except:\n",
    "        display(Markdown(f'{nbr} is no number'))\n",
    "\n",
    "print(nbr_int)\n",
    "    \n",
    "#search power for integer or float\n",
    "if nbr_int == 0:\n",
    "    display(Markdown('$0$'))\n",
    "elif nbr_int >= 1 or nbr_int <= -1:\n",
    "    if nbr_int < 100 and nbr_int >= 1 or nbr_int <= -1 and nbr_int > -100:\n",
    "        display(Markdown(f'{nbr_int}'))\n",
    "    elif nbr_int >= 100 and nbr_int < 10**3 or nbr_int <= -100 and nbr_int > -10**3:\n",
    "        nbr_int = nbr_int /10**2\n",
    "        display(Markdown(f'{nbr_int} $ * 10^2$'))\n",
    "    elif nbr_int >= 1000 and nbr_int < 10**4 or nbr_int <= -10**3 and nbr_int > -10**4:\n",
    "        nbr_int = nbr_int /10**3\n",
    "        display(Markdown(f'{nbr_int}$*10^3$'))\n",
    "    elif nbr_int >= 10000 and nbr_int < 10**5 or nbr_int <= -10**4 and nbr_int > -10**5:\n",
    "        nbr_int = nbr_int /10**3\n",
    "        display(Markdown(f'{nbr_int}$*10^3$'))\n",
    "    elif nbr_int >= 100000 and nbr_int < 10**6 or nbr_int <= -10**5 and nbr_int > -10**6:\n",
    "        nbr_int = nbr_int /10**3\n",
    "        display(Markdown(f'{nbr_int}$*10^3$'))\n",
    "    elif nbr_int >= 1000000 and nbr_int < 10**7 or nbr_int <= -10**6 and nbr_int > -10**7:\n",
    "        nbr_int = nbr_int /10**6\n",
    "        display(Markdown(f'{nbr_int}$*10^6$'))\n",
    "    elif nbr_int >= 10**7 and nbr_int < 10**8 or nbr_int <= -10**7 and nbr_int > -10**8:\n",
    "        nbr_int = nbr_int /10**6\n",
    "        display(Markdown(f'{nbr_int}$*10^6$'))\n",
    "    elif nbr_int >= 10**8 and nbr_int < 1*10**9 or nbr_int <= -10**8 and nbr_int > -10**9:\n",
    "        nbr_int = nbr_int /10**6\n",
    "        display(Markdown(f'{nbr_int}$*10^6$'))\n",
    "    elif nbr_int >= 1*10**9 and nbr_int < 1*10**10 or nbr_int <= -10**9 and nbr_int > -10**10:\n",
    "        nbr_int = nbr_int /10**9\n",
    "        display(Markdown(f'{nbr_int}$*10^9$'))\n",
    "    elif nbr_int >= 1*10**10 and nbr_int < 1*10**11 or nbr_int <= -10**10 and nbr_int > -10**11:\n",
    "        nbr_int = nbr_int /10**9\n",
    "        display(Markdown(f'{nbr_int}$*10^9$'))\n",
    "    elif nbr_int >= 1*10**11 and nbr_int < 1*10**12 or nbr_int <= -10**11 and nbr_int > -10**12:\n",
    "        nbr_int = nbr_int /10**9\n",
    "        display(Markdown(f'{nbr_int}$*10^9$'))\n",
    "    elif nbr_int >= 1*10**12 and nbr_int < 1*10**13 or nbr_int <= -10**12 and nbr_int > -10**13:\n",
    "        nbr_int = nbr_int /10**12\n",
    "        display(Markdown(f'{nbr_int}$*10^(12)$'))\n",
    "    elif nbr_int >= 1*10**13 and nbr_int < 1*10**14 or nbr_int <= -10**13 and nbr_int > -10**14:\n",
    "        nbr_int = nbr_int /10**12\n",
    "        display(Markdown(f'{nbr_int}$*10^(12)$'))\n",
    "    elif nbr_int >= 1*10**14 and nbr_int < 1*10**15 or nbr_int <= -10**14 and nbr_int > -10**15:\n",
    "        nbr_int = nbr_int /10**12\n",
    "        display(Markdown(f'{nbr_int}$*10^(12)$'))\n",
    "    elif nbr_int >= 1*10**15 and nbr_int < 1*10**16 or nbr_int <= -10**15 and nbr_int > -10**16:\n",
    "        nbr_int = nbr_int /10**15\n",
    "        display(Markdown(f'{nbr_int}$*10^(15)$'))\n",
    "    elif nbr_int >= 1*10**16 and nbr_int < 1*10**17 or nbr_int <= -10**16 and nbr_int > -10**17:\n",
    "        nbr_int = nbr_int /10**15\n",
    "        display(Markdown(f'{nbr_int}$*10^(15)$'))\n",
    "    elif nbr_int >= 1*10**17 and nbr_int < 1*10**18 or nbr_int <= -10**17 and nbr_int > -10**18:\n",
    "        nbr_int = nbr_int /10**15\n",
    "        display(Markdown(f'{nbr_int}$*10^(15)$'))\n",
    "    elif nbr_int >= 1*10**18 and nbr_int < 1*10**19 or nbr_int <= -10**18 and nbr_int > -10**19:\n",
    "        nbr_int = nbr_int /10**18\n",
    "        display(Markdown(f'{nbr_int}$*10^(18)$'))\n",
    "    elif nbr_int >= 1*10**19 and nbr_int < 1*10**20 or nbr_int <= -10**19 and nbr_int > -10**20:\n",
    "        nbr_int = nbr_int /10**18\n",
    "        display(Markdown(f'{nbr_int}$*10^(18)$'))\n",
    "    elif nbr_int >= 1*10**20 and nbr_int < 1*10**21 or nbr_int <= -10**20 and nbr_int > -10**21:\n",
    "        nbr_int = nbr_int /10**18\n",
    "        display(Markdown(f'{nbr_int}$*10^(18)$'))\n",
    "    elif nbr_int >= 1*10**21 and nbr_int < 1*10**22 or nbr_int <= -10**21 and nbr_int > -10**22:\n",
    "        nbr_int = nbr_int /10**21\n",
    "        display(Markdown(f'{nbr_int}$*10^(21)$'))\n",
    "    elif nbr_int >= 1*10**22 and nbr_int < 1*10**23 or nbr_int <= -10**22 and nbr_int > -10**23:\n",
    "        nbr_int = nbr_int /10**21\n",
    "        display(Markdown(f'{nbr_int}$*10^(21)$'))\n",
    "    elif nbr_int >= 1*10**23 and nbr_int < 1*10**24 or nbr_int <= -10**23 and nbr_int > -10**24:\n",
    "        nbr_int = nbr_int /10**21\n",
    "        display(Markdown(f'{nbr_int}$*10^(21)$'))\n",
    "    elif nbr_int >= 1*10**24 and nbr_int < 1*10**25 or nbr_int <= -10**24 and nbr_int > -10**25:\n",
    "        nbr_int = nbr_int /10**24\n",
    "        display(Markdown(f'{nbr_int}$*10^(24)$'))\n",
    "    elif nbr_int >= 1*10**25 and nbr_int < 1*10**26 or nbr_int <= -10**25 and nbr_int > -10**26:\n",
    "        nbr_int = nbr_int /10**24\n",
    "        display(Markdown(f'{nbr_int}$*10^(24)$'))\n",
    "    elif nbr_int >= 1*10**26 and nbr_int < 1*10**27 or nbr_int <= -10**26 and nbr_int > -10**27:\n",
    "        nbr_int = nbr_int /10**24\n",
    "        display(Markdown(f'{nbr_int}$*10^(24)$'))\n",
    "    else:\n",
    "        display(Markdown('Nummer zu groß! Maximale Zahlen bis $9.9999*10^27$'))\n",
    "elif nbr_int > 0 and nbr_int < 1 or nbr_int < 0 and nbr_int > -1:\n",
    "    if nbr_int < 1 and nbr_int >= 10**-2:\n",
    "        display(Markdown(f'{nbr_int}'))\n",
    "    elif nbr_int < 10**-2 and nbr_int >= 1*10**-3 or nbr_int >= -10**-2 and nbr_int < -10**-3:\n",
    "        nbr_int = nbr_int * 10**3\n",
    "        display(Markdown(f'{nbr_int}$*10^-3$'))\n",
    "    elif nbr_int < 10**-3 and nbr_int >= 1*10**-4 or nbr_int >= -10**-3 and nbr_int < -10**-4:\n",
    "        nbr_int = nbr_int * 10**3\n",
    "        display(Markdown(f'{nbr_int}$*10^-3$'))\n",
    "    elif nbr_int < 10**-4 and nbr_int >= 1*10**-5 or nbr_int >= -10**-4 and nbr_int < -10**-5:\n",
    "        nbr_int = nbr_int * 10**3\n",
    "        display(Markdown(f'{nbr_int}$*10^-3$'))\n",
    "    elif nbr_int < 10**-5 and nbr_int >= 1*10**-6 or nbr_int >= -10**-5 and nbr_int < -10**-6:\n",
    "        nbr_int = nbr_int * 10**6\n",
    "        display(Markdown(f'{nbr_int}$*10^-6$'))\n",
    "    elif nbr_int < 10**-6 and nbr_int >= 1*10**-7 or nbr_int >= -10**-6 and nbr_int < -10**-7:\n",
    "        nbr_int = nbr_int * 10**6\n",
    "        display(Markdown(f'{nbr_int}$*10^-6$'))\n",
    "    elif nbr_int < 10**-7 and nbr_int >= 1*10**-8 or nbr_int >= -10**-7 and nbr_int < -10**-8:\n",
    "        nbr_int = nbr_int * 10**6\n",
    "        display(Markdown(f'{nbr_int}$*10^-6$'))\n",
    "    elif nbr_int < 1*10**-8 and nbr_int >= 1*10**-9 or nbr_int >= -10**-8 and nbr_int < -10**-9:\n",
    "        nbr_int = nbr_int * 10**9\n",
    "        display(Markdown(f'{nbr_int}$*10^-9$'))\n",
    "    elif nbr_int < 1*10**-9 and nbr_int >= 1*10**-10 or nbr_int >= -10**-9 and nbr_int < -10**-10:\n",
    "        nbr_int = nbr_int * 10**9\n",
    "        display(Markdown(f'{nbr_int}$*10^-9$'))\n",
    "    elif nbr_int < 1*10**-10 and nbr_int >= 1*10**-11 or nbr_int >= -10**-10 and nbr_int < -10**-11:\n",
    "        nbr_int = nbr_int *10**9\n",
    "        display(Markdown(f'{nbr_int}$*10^-9$'))\n",
    "    elif nbr_int < 1*10**-11 and nbr_int >= 1*10**-12 or nbr_int >= -10**-11 and nbr_int < -10**-12:\n",
    "        nbr_int = nbr_int *10**12\n",
    "        display(Markdown(f'{nbr_int}$*10^-(12)$'))\n",
    "    elif nbr_int < 1*10**-12 and nbr_int >= 1*10**-13 or nbr_int >= -10**-12 and nbr_int < -10**-13:\n",
    "        nbr_int = nbr_int *10**12\n",
    "        display(Markdown(f'{nbr_int}$*10^-(12)$'))\n",
    "    elif nbr_int < 1*10**-13 and nbr_int >= 1*10**-14 or nbr_int >= -10**-13 and nbr_int < -10**-14:\n",
    "        nbr_int = nbr_int *10**12\n",
    "        display(Markdown(f'{nbr_int}$*10^-(12)$'))\n",
    "    elif nbr_int < 1*10**-14 and nbr_int >= 1*10**-15 or nbr_int >= -10**-14 and nbr_int < -10**-15:\n",
    "        nbr_int = nbr_int *10**15\n",
    "        display(Markdown(f'{nbr_int}$*10^-(15)$'))\n",
    "    elif nbr_int < 1*10**-15 and nbr_int >= 1*10**-16 or nbr_int >= -10**-15 and nbr_int < -10**-16:\n",
    "        nbr_int = nbr_int *10**15\n",
    "        display(Markdown(f'{nbr_int}$*10^-(15)$'))\n",
    "    elif nbr_int < 1*10**-16 and nbr_int >= 1*10**-17 or nbr_int >= -10**-16 and nbr_int < -10**-17:\n",
    "        nbr_int = nbr_int *10**15\n",
    "        display(Markdown(f'{nbr_int}$*10^-(15)$'))\n",
    "    elif nbr_int < 1*10**-17 and nbr_int >= 1*10**-18 or nbr_int >= -10**-17 and nbr_int < -10**-18:\n",
    "        nbr_int = nbr_int *10**18\n",
    "        display(Markdown(f'{nbr_int}$*10^-(18)$'))\n",
    "    elif nbr_int < 1*10**-18 and nbr_int >= 1*10**-19 or nbr_int >= -10**-18 and nbr_int < -10**-19:\n",
    "        nbr_int = nbr_int *10**18\n",
    "        display(Markdown(f'{nbr_int}$*10^-(18)$'))\n",
    "    elif nbr_int < 1*10**-19 and nbr_int >= 1*10**-20 or nbr_int >= -10**-19 and nbr_int < -10**-20:\n",
    "        nbr_int = nbr_int *10**18\n",
    "        display(Markdown(f'{nbr_int}$*10^-(18)$'))\n",
    "    elif nbr_int < 1*10**-20 and nbr_int >= 1*10**-21 or nbr_int >= -10**-20 and nbr_int < -10**-21:\n",
    "        nbr_int = nbr_int *10**21\n",
    "        display(Markdown(f'{nbr_int}$*10^-(21)$'))\n",
    "    elif nbr_int < 1*10**-21 and nbr_int >= 1*10**-22 or nbr_int >= -10**-21 and nbr_int < -10**-22:\n",
    "        nbr_int = nbr_int *10**21\n",
    "        display(Markdown(f'{nbr_int}$*10^-(21)$'))\n",
    "    elif nbr_int < 1*10**-22 and nbr_int >= 1*10**-23 or nbr_int >= -10**-22 and nbr_int < -10**-23:\n",
    "        nbr_int = nbr_int *10**21\n",
    "        display(Markdown(f'{nbr_int}$*10^-(21)$'))\n",
    "    elif nbr_int < 1*10**-23 and nbr_int >= 1*10**-24 or nbr_int >= -10**-23 and nbr_int < -10**-24:\n",
    "        nbr_int = nbr_int *10**24\n",
    "        display(Markdown(f'{nbr_int}$*10^-(24)$'))\n",
    "    elif nbr_int < 1*10**-24 and nbr_int >= 1*10**-25 or nbr_int >= -10**-24 and nbr_int < -10**-25:\n",
    "        nbr_int = nbr_int *10**24\n",
    "        display(Markdown(f'{nbr_int}$*10^-(24)$'))\n",
    "    elif nbr_int < 1*10**-25 and nbr_int >= 1*10**-26 or nbr_int >= -10**-25 and nbr_int < -10**-26:\n",
    "        nbr_int = nbr_int *10**24\n",
    "        display(Markdown(f'{nbr_int}$*10^-(24)$'))\n",
    "    else:\n",
    "        display(Markdown('Nummer zu klein! Minimale Zahlen bis $9.9999*10^-27$'))\n",
    "else:\n",
    "    display(Markdown('Die Zahl konnte nicht erkannt werden! (Lassen Sie die Einheit weg)'))\n",
    "    "
   ]
  },
  {
   "cell_type": "markdown",
   "metadata": {},
   "source": [
    "## Danksagung\n",
    "\n",
    "\n",
    "Dieses digitale Lehr-/Lernmaterial wurde im Rahmen des Programms [Fellowships für Innovationen in der digitalen Hochschullehre](https://www.stifterverband.org/digital-lehrfellows-nrw/2019/temmen_kersten) des Ministeriums für Kultur und Wissenschaft des Landes Nordrhein-Westfalen und des Stifterverbandes entwickelt. \n",
    "\n",
    "Die Autoren stellen dieses digitale Lehr-/Lernmateriales als Open Educational Ressources unter der Lizenz [Creative Commons Attribution-ShareAlike 4.0 International License (CC BY-SA 4.0)](https://creativecommons.org/licenses/by-sa/4.0/) zur Verfügung.\n",
    "\n",
    "\n",
    "    \n",
    "<img align=\"left\" src=\"https://licensebuttons.net/l/by-sa/3.0/88x31.png\">"
   ]
  },
  {
   "cell_type": "code",
   "execution_count": null,
   "metadata": {},
   "outputs": [],
   "source": []
  }
 ],
 "metadata": {
  "kernelspec": {
   "display_name": "Python 3",
   "language": "python",
   "name": "python3"
  },
  "language_info": {
   "codemirror_mode": {
    "name": "ipython",
    "version": 3
   },
   "file_extension": ".py",
   "mimetype": "text/x-python",
   "name": "python",
   "nbconvert_exporter": "python",
   "pygments_lexer": "ipython3",
   "version": "3.7.6"
  }
 },
 "nbformat": 4,
 "nbformat_minor": 4
}
